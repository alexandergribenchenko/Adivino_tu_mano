{
  "nbformat": 4,
  "nbformat_minor": 0,
  "metadata": {
    "colab": {
      "name": "Adivino_tu_mano_(Notebook_Colab).ipynb",
      "provenance": [],
      "collapsed_sections": [],
      "toc_visible": true,
      "include_colab_link": true
    },
    "kernelspec": {
      "name": "python3",
      "display_name": "Python 3"
    },
    "accelerator": "GPU"
  },
  "cells": [
    {
      "cell_type": "markdown",
      "metadata": {
        "id": "view-in-github",
        "colab_type": "text"
      },
      "source": [
        "<a href=\"https://colab.research.google.com/github/alexandergribenchenko/Adivino_tu_mano/blob/main/Adivino_tu_mano_(Notebook_Colab).ipynb\" target=\"_parent\"><img src=\"https://colab.research.google.com/assets/colab-badge.svg\" alt=\"Open In Colab\"/></a>"
      ]
    },
    {
      "cell_type": "markdown",
      "metadata": {
        "id": "khfKCX3xC4Hs"
      },
      "source": [
        "# 1. Conexión al repositorio donde tenemos nuestras imagenes"
      ]
    },
    {
      "cell_type": "code",
      "metadata": {
        "colab": {
          "base_uri": "https://localhost:8080/"
        },
        "id": "Jfezt5cP157D",
        "outputId": "83398071-03a2-4fb4-fcbc-20cb524b415d"
      },
      "source": [
        "# Generamos una conexión a nuestra carpeta de Drive que nos permita tener acceso \n",
        "# a los carpetas donde tenemos nuestras imagenes de entrenamiento, validación y test\n",
        "\n",
        "from google.colab import drive\n",
        "drive.mount('/content/drive')"
      ],
      "execution_count": 1,
      "outputs": [
        {
          "output_type": "stream",
          "text": [
            "Mounted at /content/drive\n"
          ],
          "name": "stdout"
        }
      ]
    },
    {
      "cell_type": "markdown",
      "metadata": {
        "id": "t8s542JtDhfh"
      },
      "source": [
        "# 2. Librerías necesarias para el desarrollo del proyecto"
      ]
    },
    {
      "cell_type": "code",
      "metadata": {
        "id": "7zIP7OUU7_AM"
      },
      "source": [
        "# Importamos las librerías necesarias para el proyecto\n",
        "\n",
        "# Librerías necesarias para el procesamiento numérico y de graficación\n",
        "import numpy as np\n",
        "import matplotlib.pyplot as plt\n",
        "\n",
        "# Librerías necesarias para implementar el modelo basado en redes neuronales\n",
        "import tensorflow as tf\n",
        "from tensorflow import keras\n",
        "\n",
        "# Librería necesaria para importar y procesar imagenes\n",
        "import imageio\n",
        "\n",
        "# Librería necesaria para obtener los nombres y paths de todas nuestras imagenes\n",
        "import os "
      ],
      "execution_count": 2,
      "outputs": []
    },
    {
      "cell_type": "markdown",
      "metadata": {
        "id": "w1MitnPbDKqP"
      },
      "source": [
        "# 3. Ejemplo de como se importa y preprocesa una única imagen"
      ]
    },
    {
      "cell_type": "code",
      "metadata": {
        "colab": {
          "base_uri": "https://localhost:8080/",
          "height": 336
        },
        "id": "VxUEl4oe7EiS",
        "outputId": "0cddad0b-5b0c-4d02-8d60-7217c446c75a"
      },
      "source": [
        "# Ejemplo de como podemos importar y visualizar una de las imagenes de nuestro set de entrenamiento\r\n",
        "\r\n",
        "# Importamos la imagen:\r\n",
        "image = imageio.imread('/content/drive/MyDrive/Colab Notebooks/64x64_SIGNS/test_signs/0_IMG_5942.jpg')\r\n",
        "\r\n",
        "# Visualizamos el tipo de objeto que es:\r\n",
        "print(type(image))\r\n",
        "\r\n",
        "# Hacemos una conversión a tipo array de numpy:\r\n",
        "image_np = np.asarray(image)\r\n",
        "print(type(image_np))\r\n",
        "\r\n",
        "# Visualizamos las dimensiones del nuevo arreglo:\r\n",
        "print(image_np.shape)\r\n",
        "\r\n",
        "# Visualizamos las imagen importada:\r\n",
        "plt.imshow(image_np)"
      ],
      "execution_count": 3,
      "outputs": [
        {
          "output_type": "stream",
          "text": [
            "<class 'imageio.core.util.Array'>\n",
            "<class 'numpy.ndarray'>\n",
            "(64, 64, 3)\n"
          ],
          "name": "stdout"
        },
        {
          "output_type": "execute_result",
          "data": {
            "text/plain": [
              "<matplotlib.image.AxesImage at 0x7ffaa1455ac8>"
            ]
          },
          "metadata": {
            "tags": []
          },
          "execution_count": 3
        },
        {
          "output_type": "display_data",
          "data": {
            "image/png": "[encoded data removed]",
            "text/plain": [
              "<Figure size 432x288 with 1 Axes>"
            ]
          },
          "metadata": {
            "tags": [],
            "needs_background": "light"
          }
        }
      ]
    },
    {
      "cell_type": "code",
      "metadata": {
        "colab": {
          "base_uri": "https://localhost:8080/",
          "height": 302
        },
        "id": "1AqIvyAJ8h7C",
        "outputId": "5a9f6e45-eec1-418a-a9ac-e018f7be3d93"
      },
      "source": [
        "# Dado que resultara más liviano y útil para la red neuronal, la clasificación la \r\n",
        "# haremos unicamante empleando el primer canal del RGB de la imagen\r\n",
        "\r\n",
        "# Chequeamos la nueva dimensión del array \r\n",
        "print(image_np[:,:,0].shape)\r\n",
        "\r\n",
        "# Visualizamos las imagen tras la trasformación:\r\n",
        "plt.imshow(image_np[:,:,0])"
      ],
      "execution_count": 4,
      "outputs": [
        {
          "output_type": "stream",
          "text": [
            "(64, 64)\n"
          ],
          "name": "stdout"
        },
        {
          "output_type": "execute_result",
          "data": {
            "text/plain": [
              "<matplotlib.image.AxesImage at 0x7ffaa0f2ad30>"
            ]
          },
          "metadata": {
            "tags": []
          },
          "execution_count": 4
        },
        {
          "output_type": "display_data",
          "data": {
            "image/png": "[encoded data removed]",
            "text/plain": [
              "<Figure size 432x288 with 1 Axes>"
            ]
          },
          "metadata": {
            "tags": [],
            "needs_background": "light"
          }
        }
      ]
    },
    {
      "cell_type": "markdown",
      "metadata": {
        "id": "Qkjj9R2UEFVd"
      },
      "source": [
        "# 4. Obtención de la totalidad de los paths y nombres de nuestras imagenes"
      ]
    },
    {
      "cell_type": "code",
      "metadata": {
        "id": "zbnYiET57PRg"
      },
      "source": [
        "# Definimos una función que nos permita obtener una lista con todos los paths o\r\n",
        "# nombres de las imagenes con las que deseamos trabajar\r\n",
        "# Entradas\r\n",
        "# - dir: ruta del directorio del que deseamos obtener las imagenes\r\n",
        "# - tipo: nos permite obtener o bien obtener los nombre o el paths de todas las imagenes\r\n",
        "#         (las entrasas posibles son respectivamante: 'paths' o 'names )\r\n",
        "# Salida\r\n",
        "# - salida: lista con los nombres o los paths de todas las imagenees en la carpeta dir\r\n",
        "def list_dir(dir, tipo):\r\n",
        "    file_names = os.listdir(dir)\r\n",
        "    if tipo=='names':\r\n",
        "       salida = [file_name for file_name in file_names]\r\n",
        "    elif tipo=='paths': \r\n",
        "      salida = [os.path.abspath(os.path.join(dir,file_name)) for file_name in file_names]\r\n",
        "    return salida"
      ],
      "execution_count": 5,
      "outputs": []
    },
    {
      "cell_type": "markdown",
      "metadata": {
        "id": "ddTUSqJRHl8E"
      },
      "source": [
        "##### **---> Lista de paths y nombres del conjunto train**"
      ]
    },
    {
      "cell_type": "code",
      "metadata": {
        "colab": {
          "base_uri": "https://localhost:8080/"
        },
        "id": "-diFWMSfDyDh",
        "outputId": "05764caa-f62c-4f46-be7c-21811f0f4ace"
      },
      "source": [
        "# Empleamos nuestra función para obtener las listas con los nombres y los path del conjunto de train\r\n",
        "list_names_train_signs = list_dir('/content/drive/MyDrive/Colab Notebooks/64x64_SIGNS/train_signs', 'names')\r\n",
        "list_paths_train_signs = list_dir('/content/drive/MyDrive/Colab Notebooks/64x64_SIGNS/train_signs', 'paths')\r\n",
        "\r\n",
        "# Visualicemos la cantidad total de imagenes de nuestro conjunto de train\r\n",
        "print(len(list_paths_train_signs))\r\n",
        "\r\n",
        "# Visualicemos a manera de ejemplo los primeros 5 elementos de los nombres\r\n",
        "print(list_names_train_signs[:5])\r\n",
        "\r\n",
        "# Visualicemos a manera de ejemplo los primeros 5 elementos de los paths\r\n",
        "list_paths_train_signs[:5]"
      ],
      "execution_count": 6,
      "outputs": [
        {
          "output_type": "stream",
          "text": [
            "864\n",
            "['2_IMG_4702.jpg', '1_IMG_4391.jpg', '1_IMG_4561.jpg', '1_IMG_4448.jpg', '0_IMG_5932.jpg']\n"
          ],
          "name": "stdout"
        },
        {
          "output_type": "execute_result",
          "data": {
            "text/plain": [
              "['/content/drive/MyDrive/Colab Notebooks/64x64_SIGNS/train_signs/2_IMG_4702.jpg',\n",
              " '/content/drive/MyDrive/Colab Notebooks/64x64_SIGNS/train_signs/1_IMG_4391.jpg',\n",
              " '/content/drive/MyDrive/Colab Notebooks/64x64_SIGNS/train_signs/1_IMG_4561.jpg',\n",
              " '/content/drive/MyDrive/Colab Notebooks/64x64_SIGNS/train_signs/1_IMG_4448.jpg',\n",
              " '/content/drive/MyDrive/Colab Notebooks/64x64_SIGNS/train_signs/0_IMG_5932.jpg']"
            ]
          },
          "metadata": {
            "tags": []
          },
          "execution_count": 6
        }
      ]
    },
    {
      "cell_type": "markdown",
      "metadata": {
        "id": "VHBi5JCjIMZs"
      },
      "source": [
        "##### **---> Lista de paths y nombres del conjunto de test**"
      ]
    },
    {
      "cell_type": "code",
      "metadata": {
        "colab": {
          "base_uri": "https://localhost:8080/"
        },
        "id": "pUwOurZnIdPQ",
        "outputId": "ecf09413-d938-4b79-fd88-79b9d062bdf6"
      },
      "source": [
        "# Empleamos nuestra función para obtener las listas con los nombres y los path del conjunto de test\r\n",
        "list_names_test_signs = list_dir('/content/drive/MyDrive/Colab Notebooks/64x64_SIGNS/test_signs', 'names')\r\n",
        "list_paths_test_signs = list_dir('/content/drive/MyDrive/Colab Notebooks/64x64_SIGNS/test_signs', 'paths')\r\n",
        "\r\n",
        "# Visualicemos la cantidad total de imagenes de nuestro conjunto de test\r\n",
        "print(len(list_paths_test_signs))\r\n",
        "\r\n",
        "# Visualicemos a manera de ejemplo los primeros 5 elementos de los nombres\r\n",
        "print(list_names_test_signs[:5])\r\n",
        "\r\n",
        "# Visualicemos a manera de ejemplo los primeros 5 elementos de los paths\r\n",
        "list_paths_test_signs[:5]"
      ],
      "execution_count": 7,
      "outputs": [
        {
          "output_type": "stream",
          "text": [
            "120\n",
            "['4_IMG_5425.jpg', '0_IMG_5969.jpg', '3_IMG_6110.jpg', '5_IMG_5621.jpg', '1_IMG_4523.jpg']\n"
          ],
          "name": "stdout"
        },
        {
          "output_type": "execute_result",
          "data": {
            "text/plain": [
              "['/content/drive/MyDrive/Colab Notebooks/64x64_SIGNS/test_signs/4_IMG_5425.jpg',\n",
              " '/content/drive/MyDrive/Colab Notebooks/64x64_SIGNS/test_signs/0_IMG_5969.jpg',\n",
              " '/content/drive/MyDrive/Colab Notebooks/64x64_SIGNS/test_signs/3_IMG_6110.jpg',\n",
              " '/content/drive/MyDrive/Colab Notebooks/64x64_SIGNS/test_signs/5_IMG_5621.jpg',\n",
              " '/content/drive/MyDrive/Colab Notebooks/64x64_SIGNS/test_signs/1_IMG_4523.jpg']"
            ]
          },
          "metadata": {
            "tags": []
          },
          "execution_count": 7
        }
      ]
    },
    {
      "cell_type": "markdown",
      "metadata": {
        "id": "A1VQ8ztVJGzb"
      },
      "source": [
        "# 5. Obtención de los arrays con los labels para el entrenamiento y evaluación"
      ]
    },
    {
      "cell_type": "code",
      "metadata": {
        "id": "q4N4pcikFdLa",
        "colab": {
          "base_uri": "https://localhost:8080/",
          "height": 285
        },
        "outputId": "ac0701b6-9200-442a-fa63-ca585bd8c7fc"
      },
      "source": [
        "# Observamos que los nombres de las imagenes contienen siempre como primer elemento\r\n",
        "# el label de la imagen (el numero 'verdadero' al que se asocia la imagen que se pretendio representar con la mano)\r\n",
        "\r\n",
        "# A manera de ejemplo vemos que la imagen que lleva por nombre 0_IMG_5942.jpg, trato de representar el número 0\r\n",
        "image_np_r = np.asarray(imageio.imread('/content/drive/MyDrive/Colab Notebooks/64x64_SIGNS/test_signs/0_IMG_5942.jpg'))[:,:,0]\r\n",
        "\r\n",
        "# Visualizamos las imagen importada:\r\n",
        "plt.imshow(image_np_r)"
      ],
      "execution_count": 8,
      "outputs": [
        {
          "output_type": "execute_result",
          "data": {
            "text/plain": [
              "<matplotlib.image.AxesImage at 0x7ffaa0e60198>"
            ]
          },
          "metadata": {
            "tags": []
          },
          "execution_count": 8
        },
        {
          "output_type": "display_data",
          "data": {
            "image/png": "[encoded data removed]",
            "text/plain": [
              "<Figure size 432x288 with 1 Axes>"
            ]
          },
          "metadata": {
            "tags": [],
            "needs_background": "light"
          }
        }
      ]
    },
    {
      "cell_type": "markdown",
      "metadata": {
        "id": "FGHVpod2L-_0"
      },
      "source": [
        "##### **---> Array con los labels del conjunto de train**"
      ]
    },
    {
      "cell_type": "code",
      "metadata": {
        "colab": {
          "base_uri": "https://localhost:8080/"
        },
        "id": "QfxnBTy8CzfN",
        "outputId": "0b5de586-2291-4364-fad2-66bdcc06bb08"
      },
      "source": [
        "# Empleando el primer digito del nombre y a partir de un list comprenhention \r\n",
        "# obtenemnos la totalidad de los labels para el conjunto de train\r\n",
        "# (Este arreglo ya tiene las dimensiones necesarias para ser empleado como label en keras)\r\n",
        "train_labels = np.asarray([int(name[0]) for name  in list_names_train_signs])\r\n",
        "\r\n",
        "# Imprimimos para corroborar el tamaño del arreglo para el conjunto de train\r\n",
        "print(train_labels.shape)\r\n",
        "\r\n",
        "# Visualizamos a manera de ejemplo los 20 primeros registros\r\n",
        "train_labels[:20]"
      ],
      "execution_count": 9,
      "outputs": [
        {
          "output_type": "stream",
          "text": [
            "(864,)\n"
          ],
          "name": "stdout"
        },
        {
          "output_type": "execute_result",
          "data": {
            "text/plain": [
              "array([2, 1, 1, 1, 0, 3, 2, 2, 4, 3, 1, 1, 5, 4, 4, 1, 5, 1, 2, 3])"
            ]
          },
          "metadata": {
            "tags": []
          },
          "execution_count": 9
        }
      ]
    },
    {
      "cell_type": "markdown",
      "metadata": {
        "id": "DTGEdlD0OOzD"
      },
      "source": [
        "##### **---> Array con los labels del conjunto de test**"
      ]
    },
    {
      "cell_type": "code",
      "metadata": {
        "colab": {
          "base_uri": "https://localhost:8080/"
        },
        "id": "sRC-Tg0tOOzV",
        "outputId": "65c68cbc-bea7-4c1d-af28-28c44e713e4c"
      },
      "source": [
        "# Empleando el primer digito del nombre y a partir de un list comprenhention \r\n",
        "# obtenemnos la totalidad de los labels para el conjunto de test\r\n",
        "# (Este arreglo ya tiene las dimensiones necesarias para ser empleado como label en keras)\r\n",
        "test_labels = np.asarray([int(name[0]) for name  in list_names_test_signs])\r\n",
        "\r\n",
        "# Imprimimos para corroborar el tamaño del arreglo para el conjunto de test\r\n",
        "print(test_labels.shape)\r\n",
        "\r\n",
        "# Visualizamos a manera de ejemplo los 20 primeros registros\r\n",
        "test_labels[:20]"
      ],
      "execution_count": 10,
      "outputs": [
        {
          "output_type": "stream",
          "text": [
            "(120,)\n"
          ],
          "name": "stdout"
        },
        {
          "output_type": "execute_result",
          "data": {
            "text/plain": [
              "array([4, 0, 3, 5, 1, 4, 2, 1, 1, 2, 4, 0, 0, 0, 3, 4, 5, 2, 4, 0])"
            ]
          },
          "metadata": {
            "tags": []
          },
          "execution_count": 10
        }
      ]
    },
    {
      "cell_type": "markdown",
      "metadata": {
        "id": "muU4V2wzR8VQ"
      },
      "source": [
        "# 6. Obtención de los arrays de las imagenes de entrenamiento y evaluación"
      ]
    },
    {
      "cell_type": "markdown",
      "metadata": {
        "id": "XvoHwvpeXWYB"
      },
      "source": [
        "##### **---> Array con las imagenes del conjunto de train**"
      ]
    },
    {
      "cell_type": "code",
      "metadata": {
        "colab": {
          "base_uri": "https://localhost:8080/"
        },
        "id": "awDkTYzQCzh8",
        "outputId": "0023ce78-fb25-4427-8278-9188168109bf"
      },
      "source": [
        "# Empleando el mismo procedimiento del numeral 3 para una única imagen, y haciendo uno de \r\n",
        "# una list comprenhention obtenemos una array con la información de todas las imagenes del conjunto de train\r\n",
        "train_images = np.array([ np.asarray(imageio.imread(path))[:,:,0] for path in list_paths_train_signs])\r\n",
        "\r\n",
        "# Visualizamos inicialmente la forma de dicha matriz (tal como esta no es aceptada por keras)\r\n",
        "print(train_images.shape)\r\n",
        "\r\n",
        "# Generamos un reshape de tal manera que pueda tener la forma que es aceptada por keras\r\n",
        "train_images = train_images.reshape(train_images.shape[0], train_images.shape[1], train_images.shape[2], 1)\r\n",
        "print(train_images.shape)\r\n",
        "\r\n",
        "# Finalmente convertimos la escala de 0 a 255, a una escala normalizada entre 0 y 1 con valores flotantes\r\n",
        "# (Es una recomendación recurrente al trabajar con imagenes y redes neuronales para su clasificación)\r\n",
        "train_images = train_images.astype('float32')/255"
      ],
      "execution_count": 11,
      "outputs": [
        {
          "output_type": "stream",
          "text": [
            "(864, 64, 64)\n",
            "(864, 64, 64, 1)\n"
          ],
          "name": "stdout"
        }
      ]
    },
    {
      "cell_type": "markdown",
      "metadata": {
        "id": "8jaCmYIwXiyr"
      },
      "source": [
        "##### **---> Array con los labels del conjunto de test**"
      ]
    },
    {
      "cell_type": "code",
      "metadata": {
        "colab": {
          "base_uri": "https://localhost:8080/"
        },
        "id": "kUm12WZZXmNr",
        "outputId": "6d89b150-4b46-4d4f-f28d-8daacdebfe3c"
      },
      "source": [
        "# Empleando el mismo procedimiento del numeral 3 para una única imagen, y haciendo uno de \r\n",
        "# una list comprenhention obtenemos una array con la información de todas las imagenes del conjunto de test\r\n",
        "test_images = np.array([ np.asarray(imageio.imread(path))[:,:,0] for path in list_paths_test_signs])\r\n",
        "\r\n",
        "# Visualizamos inicialmente la forma de dicha matriz (tal como esta no es aceptada por keras)\r\n",
        "print(test_images.shape)\r\n",
        "\r\n",
        "# Generamos un reshape de tal manera que pueda tener la forma que es aceptada por keras\r\n",
        "test_images = test_images.reshape(test_images.shape[0], test_images.shape[1], test_images.shape[2], 1)\r\n",
        "print(test_images.shape)\r\n",
        "\r\n",
        "# Finalmente convertimos la escala de 0 a 255, a una escala normalizada entre 0 y 1 con valores flotantes\r\n",
        "# (Es una recomendación recurrente al trabajar con imagenes y redes neuronales para su clasificación)\r\n",
        "test_images = test_images.astype('float32')/255"
      ],
      "execution_count": 12,
      "outputs": [
        {
          "output_type": "stream",
          "text": [
            "(120, 64, 64)\n",
            "(120, 64, 64, 1)\n"
          ],
          "name": "stdout"
        }
      ]
    },
    {
      "cell_type": "markdown",
      "metadata": {
        "id": "Mj-hCwENhrQ-"
      },
      "source": [
        "## Vamos por aquí"
      ]
    },
    {
      "cell_type": "markdown",
      "metadata": {
        "id": "hM_SDKpFBpGs"
      },
      "source": [
        "# 7. Modelo básico de clasificación de redes neuronales"
      ]
    },
    {
      "cell_type": "code",
      "metadata": {
        "id": "9pULotR1OPZX",
        "colab": {
          "base_uri": "https://localhost:8080/"
        },
        "outputId": "83389a5f-3efd-4859-df22-a810eb53edbb"
      },
      "source": [
        "model = keras.Sequential([\n",
        "  keras.layers.Flatten(),\n",
        "  keras.layers.Dense(512, activation='relu'),\n",
        "  keras.layers.Dense(256, activation='relu'),\n",
        "  keras.layers.Dense(6, activation='softmax')\n",
        "])\n",
        "\n",
        "model.compile(optimizer='adam',\n",
        "              loss=keras.losses.SparseCategoricalCrossentropy(),\n",
        "              metrics=['accuracy'])\n",
        "\n",
        "model.fit(train_images, train_labels, epochs=100, batch_size=32)"
      ],
      "execution_count": 13,
      "outputs": [
        {
          "output_type": "stream",
          "text": [
            "Epoch 1/100\n",
            "27/27 [==============================] - 2s 2ms/step - loss: 4.3611 - accuracy: 0.1598\n",
            "Epoch 2/100\n",
            "27/27 [==============================] - 0s 2ms/step - loss: 1.8991 - accuracy: 0.1801\n",
            "Epoch 3/100\n",
            "27/27 [==============================] - 0s 2ms/step - loss: 1.8693 - accuracy: 0.2074\n",
            "Epoch 4/100\n",
            "27/27 [==============================] - 0s 2ms/step - loss: 1.7926 - accuracy: 0.2095\n",
            "Epoch 5/100\n",
            "27/27 [==============================] - 0s 2ms/step - loss: 1.7313 - accuracy: 0.2425\n",
            "Epoch 6/100\n",
            "27/27 [==============================] - 0s 2ms/step - loss: 1.7070 - accuracy: 0.2597\n",
            "Epoch 7/100\n",
            "27/27 [==============================] - 0s 2ms/step - loss: 1.6407 - accuracy: 0.3297\n",
            "Epoch 8/100\n",
            "27/27 [==============================] - 0s 2ms/step - loss: 1.5691 - accuracy: 0.3565\n",
            "Epoch 9/100\n",
            "27/27 [==============================] - 0s 2ms/step - loss: 1.4867 - accuracy: 0.3886\n",
            "Epoch 10/100\n",
            "27/27 [==============================] - 0s 2ms/step - loss: 1.4813 - accuracy: 0.4119\n",
            "Epoch 11/100\n",
            "27/27 [==============================] - 0s 2ms/step - loss: 1.5176 - accuracy: 0.3796\n",
            "Epoch 12/100\n",
            "27/27 [==============================] - 0s 2ms/step - loss: 1.3748 - accuracy: 0.4547\n",
            "Epoch 13/100\n",
            "27/27 [==============================] - 0s 2ms/step - loss: 1.4070 - accuracy: 0.4494\n",
            "Epoch 14/100\n",
            "27/27 [==============================] - 0s 2ms/step - loss: 1.3991 - accuracy: 0.4061\n",
            "Epoch 15/100\n",
            "27/27 [==============================] - 0s 2ms/step - loss: 1.3486 - accuracy: 0.4526\n",
            "Epoch 16/100\n",
            "27/27 [==============================] - 0s 2ms/step - loss: 1.2419 - accuracy: 0.5003\n",
            "Epoch 17/100\n",
            "27/27 [==============================] - 0s 2ms/step - loss: 1.1945 - accuracy: 0.5409\n",
            "Epoch 18/100\n",
            "27/27 [==============================] - 0s 2ms/step - loss: 1.2854 - accuracy: 0.5101\n",
            "Epoch 19/100\n",
            "27/27 [==============================] - 0s 2ms/step - loss: 1.2312 - accuracy: 0.5199\n",
            "Epoch 20/100\n",
            "27/27 [==============================] - 0s 2ms/step - loss: 1.1490 - accuracy: 0.5471\n",
            "Epoch 21/100\n",
            "27/27 [==============================] - 0s 2ms/step - loss: 1.1359 - accuracy: 0.5697\n",
            "Epoch 22/100\n",
            "27/27 [==============================] - 0s 2ms/step - loss: 1.1812 - accuracy: 0.5698\n",
            "Epoch 23/100\n",
            "27/27 [==============================] - 0s 2ms/step - loss: 1.0692 - accuracy: 0.6053\n",
            "Epoch 24/100\n",
            "27/27 [==============================] - 0s 2ms/step - loss: 1.0740 - accuracy: 0.5682\n",
            "Epoch 25/100\n",
            "27/27 [==============================] - 0s 2ms/step - loss: 1.0530 - accuracy: 0.5770\n",
            "Epoch 26/100\n",
            "27/27 [==============================] - 0s 2ms/step - loss: 1.1077 - accuracy: 0.5567\n",
            "Epoch 27/100\n",
            "27/27 [==============================] - 0s 2ms/step - loss: 1.1405 - accuracy: 0.5350\n",
            "Epoch 28/100\n",
            "27/27 [==============================] - 0s 2ms/step - loss: 0.9185 - accuracy: 0.6770\n",
            "Epoch 29/100\n",
            "27/27 [==============================] - 0s 2ms/step - loss: 0.9201 - accuracy: 0.6762\n",
            "Epoch 30/100\n",
            "27/27 [==============================] - 0s 2ms/step - loss: 1.2345 - accuracy: 0.5001\n",
            "Epoch 31/100\n",
            "27/27 [==============================] - 0s 2ms/step - loss: 1.0446 - accuracy: 0.6166\n",
            "Epoch 32/100\n",
            "27/27 [==============================] - 0s 2ms/step - loss: 0.9226 - accuracy: 0.6578\n",
            "Epoch 33/100\n",
            "27/27 [==============================] - 0s 2ms/step - loss: 0.9704 - accuracy: 0.6493\n",
            "Epoch 34/100\n",
            "27/27 [==============================] - 0s 2ms/step - loss: 0.9414 - accuracy: 0.6401\n",
            "Epoch 35/100\n",
            "27/27 [==============================] - 0s 2ms/step - loss: 0.8559 - accuracy: 0.6602\n",
            "Epoch 36/100\n",
            "27/27 [==============================] - 0s 2ms/step - loss: 0.8201 - accuracy: 0.7221\n",
            "Epoch 37/100\n",
            "27/27 [==============================] - 0s 2ms/step - loss: 0.9963 - accuracy: 0.6098\n",
            "Epoch 38/100\n",
            "27/27 [==============================] - 0s 2ms/step - loss: 0.8712 - accuracy: 0.7022\n",
            "Epoch 39/100\n",
            "27/27 [==============================] - 0s 2ms/step - loss: 0.9139 - accuracy: 0.6785\n",
            "Epoch 40/100\n",
            "27/27 [==============================] - 0s 2ms/step - loss: 0.7332 - accuracy: 0.7567\n",
            "Epoch 41/100\n",
            "27/27 [==============================] - 0s 2ms/step - loss: 0.7928 - accuracy: 0.7121\n",
            "Epoch 42/100\n",
            "27/27 [==============================] - 0s 2ms/step - loss: 0.7748 - accuracy: 0.7345\n",
            "Epoch 43/100\n",
            "27/27 [==============================] - 0s 2ms/step - loss: 0.7896 - accuracy: 0.7256\n",
            "Epoch 44/100\n",
            "27/27 [==============================] - 0s 2ms/step - loss: 0.7689 - accuracy: 0.7168\n",
            "Epoch 45/100\n",
            "27/27 [==============================] - 0s 2ms/step - loss: 0.7052 - accuracy: 0.7344\n",
            "Epoch 46/100\n",
            "27/27 [==============================] - 0s 2ms/step - loss: 0.7262 - accuracy: 0.7435\n",
            "Epoch 47/100\n",
            "27/27 [==============================] - 0s 2ms/step - loss: 0.6663 - accuracy: 0.7728\n",
            "Epoch 48/100\n",
            "27/27 [==============================] - 0s 2ms/step - loss: 0.6510 - accuracy: 0.7648\n",
            "Epoch 49/100\n",
            "27/27 [==============================] - 0s 2ms/step - loss: 0.6337 - accuracy: 0.7861\n",
            "Epoch 50/100\n",
            "27/27 [==============================] - 0s 2ms/step - loss: 0.6401 - accuracy: 0.7724\n",
            "Epoch 51/100\n",
            "27/27 [==============================] - 0s 2ms/step - loss: 0.6616 - accuracy: 0.7576\n",
            "Epoch 52/100\n",
            "27/27 [==============================] - 0s 2ms/step - loss: 0.7175 - accuracy: 0.7319\n",
            "Epoch 53/100\n",
            "27/27 [==============================] - 0s 2ms/step - loss: 0.7842 - accuracy: 0.7133\n",
            "Epoch 54/100\n",
            "27/27 [==============================] - 0s 2ms/step - loss: 0.7824 - accuracy: 0.7092\n",
            "Epoch 55/100\n",
            "27/27 [==============================] - 0s 2ms/step - loss: 0.6463 - accuracy: 0.7578\n",
            "Epoch 56/100\n",
            "27/27 [==============================] - 0s 2ms/step - loss: 0.6523 - accuracy: 0.7635\n",
            "Epoch 57/100\n",
            "27/27 [==============================] - 0s 2ms/step - loss: 0.6563 - accuracy: 0.7695\n",
            "Epoch 58/100\n",
            "27/27 [==============================] - 0s 2ms/step - loss: 0.4916 - accuracy: 0.8447\n",
            "Epoch 59/100\n",
            "27/27 [==============================] - 0s 2ms/step - loss: 0.5811 - accuracy: 0.7947\n",
            "Epoch 60/100\n",
            "27/27 [==============================] - 0s 2ms/step - loss: 0.6397 - accuracy: 0.7509\n",
            "Epoch 61/100\n",
            "27/27 [==============================] - 0s 2ms/step - loss: 0.5799 - accuracy: 0.7996\n",
            "Epoch 62/100\n",
            "27/27 [==============================] - 0s 2ms/step - loss: 0.4519 - accuracy: 0.8582\n",
            "Epoch 63/100\n",
            "27/27 [==============================] - 0s 2ms/step - loss: 0.5879 - accuracy: 0.7939\n",
            "Epoch 64/100\n",
            "27/27 [==============================] - 0s 2ms/step - loss: 0.5632 - accuracy: 0.7869\n",
            "Epoch 65/100\n",
            "27/27 [==============================] - 0s 2ms/step - loss: 0.7343 - accuracy: 0.7251\n",
            "Epoch 66/100\n",
            "27/27 [==============================] - 0s 2ms/step - loss: 0.7070 - accuracy: 0.7435\n",
            "Epoch 67/100\n",
            "27/27 [==============================] - 0s 2ms/step - loss: 0.7072 - accuracy: 0.7519\n",
            "Epoch 68/100\n",
            "27/27 [==============================] - 0s 2ms/step - loss: 0.6104 - accuracy: 0.7787\n",
            "Epoch 69/100\n",
            "27/27 [==============================] - 0s 2ms/step - loss: 0.5637 - accuracy: 0.7940\n",
            "Epoch 70/100\n",
            "27/27 [==============================] - 0s 2ms/step - loss: 0.5237 - accuracy: 0.8092\n",
            "Epoch 71/100\n",
            "27/27 [==============================] - 0s 2ms/step - loss: 0.6117 - accuracy: 0.7776\n",
            "Epoch 72/100\n",
            "27/27 [==============================] - 0s 2ms/step - loss: 0.6529 - accuracy: 0.7576\n",
            "Epoch 73/100\n",
            "27/27 [==============================] - 0s 2ms/step - loss: 0.4725 - accuracy: 0.8413\n",
            "Epoch 74/100\n",
            "27/27 [==============================] - 0s 2ms/step - loss: 0.5634 - accuracy: 0.8056\n",
            "Epoch 75/100\n",
            "27/27 [==============================] - 0s 2ms/step - loss: 0.6410 - accuracy: 0.7909\n",
            "Epoch 76/100\n",
            "27/27 [==============================] - 0s 2ms/step - loss: 0.4492 - accuracy: 0.8556\n",
            "Epoch 77/100\n",
            "27/27 [==============================] - 0s 2ms/step - loss: 0.3829 - accuracy: 0.8815\n",
            "Epoch 78/100\n",
            "27/27 [==============================] - 0s 2ms/step - loss: 0.6155 - accuracy: 0.7871\n",
            "Epoch 79/100\n",
            "27/27 [==============================] - 0s 2ms/step - loss: 0.6003 - accuracy: 0.7850\n",
            "Epoch 80/100\n",
            "27/27 [==============================] - 0s 2ms/step - loss: 0.5154 - accuracy: 0.8012\n",
            "Epoch 81/100\n",
            "27/27 [==============================] - 0s 2ms/step - loss: 0.6115 - accuracy: 0.7718\n",
            "Epoch 82/100\n",
            "27/27 [==============================] - 0s 2ms/step - loss: 0.4733 - accuracy: 0.8237\n",
            "Epoch 83/100\n",
            "27/27 [==============================] - 0s 2ms/step - loss: 0.4690 - accuracy: 0.8456\n",
            "Epoch 84/100\n",
            "27/27 [==============================] - 0s 2ms/step - loss: 0.4247 - accuracy: 0.8682\n",
            "Epoch 85/100\n",
            "27/27 [==============================] - 0s 2ms/step - loss: 0.4366 - accuracy: 0.8598\n",
            "Epoch 86/100\n",
            "27/27 [==============================] - 0s 2ms/step - loss: 0.4109 - accuracy: 0.8668\n",
            "Epoch 87/100\n",
            "27/27 [==============================] - 0s 2ms/step - loss: 0.4812 - accuracy: 0.8174\n",
            "Epoch 88/100\n",
            "27/27 [==============================] - 0s 2ms/step - loss: 0.4548 - accuracy: 0.8298\n",
            "Epoch 89/100\n",
            "27/27 [==============================] - 0s 2ms/step - loss: 0.4971 - accuracy: 0.8247\n",
            "Epoch 90/100\n",
            "27/27 [==============================] - 0s 2ms/step - loss: 0.4540 - accuracy: 0.8289\n",
            "Epoch 91/100\n",
            "27/27 [==============================] - 0s 2ms/step - loss: 0.4952 - accuracy: 0.8181\n",
            "Epoch 92/100\n",
            "27/27 [==============================] - 0s 2ms/step - loss: 0.3571 - accuracy: 0.8811\n",
            "Epoch 93/100\n",
            "27/27 [==============================] - 0s 2ms/step - loss: 0.3469 - accuracy: 0.8856\n",
            "Epoch 94/100\n",
            "27/27 [==============================] - 0s 2ms/step - loss: 0.4157 - accuracy: 0.8460\n",
            "Epoch 95/100\n",
            "27/27 [==============================] - 0s 2ms/step - loss: 0.3939 - accuracy: 0.8613\n",
            "Epoch 96/100\n",
            "27/27 [==============================] - 0s 2ms/step - loss: 0.3463 - accuracy: 0.8887\n",
            "Epoch 97/100\n",
            "27/27 [==============================] - 0s 2ms/step - loss: 0.3060 - accuracy: 0.9133\n",
            "Epoch 98/100\n",
            "27/27 [==============================] - 0s 2ms/step - loss: 0.4401 - accuracy: 0.8427\n",
            "Epoch 99/100\n",
            "27/27 [==============================] - 0s 2ms/step - loss: 0.4303 - accuracy: 0.8442\n",
            "Epoch 100/100\n",
            "27/27 [==============================] - 0s 2ms/step - loss: 0.2933 - accuracy: 0.9021\n"
          ],
          "name": "stdout"
        },
        {
          "output_type": "execute_result",
          "data": {
            "text/plain": [
              "<tensorflow.python.keras.callbacks.History at 0x7ffa903101d0>"
            ]
          },
          "metadata": {
            "tags": []
          },
          "execution_count": 13
        }
      ]
    },
    {
      "cell_type": "code",
      "metadata": {
        "id": "PkA2gAtmO88d",
        "colab": {
          "base_uri": "https://localhost:8080/"
        },
        "outputId": "94b9e535-4d94-47cb-c7e8-72e1fa859f8c"
      },
      "source": [
        "model.evaluate(test_images, test_labels)"
      ],
      "execution_count": 14,
      "outputs": [
        {
          "output_type": "stream",
          "text": [
            "4/4 [==============================] - 0s 3ms/step - loss: 0.6174 - accuracy: 0.7833\n"
          ],
          "name": "stdout"
        },
        {
          "output_type": "execute_result",
          "data": {
            "text/plain": [
              "[0.6173897981643677, 0.7833333611488342]"
            ]
          },
          "metadata": {
            "tags": []
          },
          "execution_count": 14
        }
      ]
    },
    {
      "cell_type": "markdown",
      "metadata": {
        "id": "OqhEhJW9aibG"
      },
      "source": [
        "# 10. Guardado del modelo y evaluación para una imagen específica"
      ]
    },
    {
      "cell_type": "code",
      "metadata": {
        "id": "Whe_f_RCabTJ"
      },
      "source": [
        "tf.keras.models.save_model(model,'/content/drive/MyDrive/Colab Notebooks/modelo_01.hdf5')"
      ],
      "execution_count": 15,
      "outputs": []
    },
    {
      "cell_type": "code",
      "metadata": {
        "id": "W2WKJf2uabjO"
      },
      "source": [
        "loaded_model = keras.models.load_model('/content/drive/MyDrive/Colab Notebooks/modelo_01.hdf5')"
      ],
      "execution_count": 16,
      "outputs": []
    },
    {
      "cell_type": "code",
      "metadata": {
        "colab": {
          "base_uri": "https://localhost:8080/"
        },
        "id": "FANAFPo6abnA",
        "outputId": "0c24e259-da97-4265-c0c8-c379aa0c3139"
      },
      "source": [
        "loaded_model.evaluate(test_images, test_labels)"
      ],
      "execution_count": 17,
      "outputs": [
        {
          "output_type": "stream",
          "text": [
            "4/4 [==============================] - 0s 3ms/step - loss: 0.6174 - accuracy: 0.7833\n"
          ],
          "name": "stdout"
        },
        {
          "output_type": "execute_result",
          "data": {
            "text/plain": [
              "[0.6173897981643677, 0.7833333611488342]"
            ]
          },
          "metadata": {
            "tags": []
          },
          "execution_count": 17
        }
      ]
    },
    {
      "cell_type": "code",
      "metadata": {
        "colab": {
          "base_uri": "https://localhost:8080/"
        },
        "id": "jQqlbT0xabsL",
        "outputId": "c684504d-0b34-46ca-f6f6-05fe51d4f109"
      },
      "source": [
        "loaded_model.evaluate(test_images, test_labels)"
      ],
      "execution_count": 18,
      "outputs": [
        {
          "output_type": "stream",
          "text": [
            "4/4 [==============================] - 0s 3ms/step - loss: 0.6174 - accuracy: 0.7833\n"
          ],
          "name": "stdout"
        },
        {
          "output_type": "execute_result",
          "data": {
            "text/plain": [
              "[0.6173897981643677, 0.7833333611488342]"
            ]
          },
          "metadata": {
            "tags": []
          },
          "execution_count": 18
        }
      ]
    },
    {
      "cell_type": "code",
      "metadata": {
        "id": "sCxIA2jBDakI"
      },
      "source": [
        ""
      ],
      "execution_count": null,
      "outputs": []
    },
    {
      "cell_type": "markdown",
      "metadata": {
        "id": "yfDmcc4VDdOc"
      },
      "source": [
        "# 11. Prediciendo para un único ejemplo"
      ]
    },
    {
      "cell_type": "code",
      "metadata": {
        "colab": {
          "base_uri": "https://localhost:8080/",
          "height": 285
        },
        "id": "uIECHpCRabvR",
        "outputId": "7e34fc4a-a54f-481c-ca02-ef3cba0cc4c9"
      },
      "source": [
        "image = np.asarray(imageio.imread('/content/drive/MyDrive/Colab Notebooks/64x64_SIGNS/test_signs/0_IMG_5942.jpg'))\r\n",
        "plt.imshow(image)"
      ],
      "execution_count": 52,
      "outputs": [
        {
          "output_type": "execute_result",
          "data": {
            "text/plain": [
              "<matplotlib.image.AxesImage at 0x7ffa2508a5f8>"
            ]
          },
          "metadata": {
            "tags": []
          },
          "execution_count": 52
        },
        {
          "output_type": "display_data",
          "data": {
            "image/png": "[encoded data removed]",
            "text/plain": [
              "<Figure size 432x288 with 1 Axes>"
            ]
          },
          "metadata": {
            "tags": [],
            "needs_background": "light"
          }
        }
      ]
    },
    {
      "cell_type": "code",
      "metadata": {
        "id": "XwA8tpkSOMvk"
      },
      "source": [
        "def import_and_predict(image, model): \r\n",
        "        image_paso_01 = image[:,:,0]\r\n",
        "        image_paso_02 = np.array([image_paso_01])\r\n",
        "        image_paso_03= image_paso_02.reshape(image_paso_02.shape[0], image_paso_02.shape[1], image_paso_02.shape[2], 1)\r\n",
        "        image_paso_04 = image_paso_03.astype('float32')/255\r\n",
        "        prediction = model.predict(image_paso_04)\r\n",
        "        return prediction"
      ],
      "execution_count": 53,
      "outputs": []
    },
    {
      "cell_type": "code",
      "metadata": {
        "colab": {
          "base_uri": "https://localhost:8080/"
        },
        "id": "TKhlGh7Kabx_",
        "outputId": "4d15b72c-dde1-4669-8c9f-fa3b02c10212"
      },
      "source": [
        "prediction=import_and_predict(image, loaded_model)\r\n",
        "print(prediction)\r\n",
        "print(np.argmax(prediction))"
      ],
      "execution_count": 56,
      "outputs": [
        {
          "output_type": "stream",
          "text": [
            "[[1.8783365e-01 2.3230580e-04 1.3663075e-02 7.2535652e-01 6.2171880e-02\n",
            "  1.0742542e-02]]\n",
            "3\n"
          ],
          "name": "stdout"
        }
      ]
    },
    {
      "cell_type": "code",
      "metadata": {
        "id": "DVCMq4KeJzof"
      },
      "source": [
        ""
      ],
      "execution_count": null,
      "outputs": []
    },
    {
      "cell_type": "code",
      "metadata": {
        "id": "XciXnyCgKmqC"
      },
      "source": [
        ""
      ],
      "execution_count": null,
      "outputs": []
    },
    {
      "cell_type": "code",
      "metadata": {
        "id": "Zw3p3y1sIC8x"
      },
      "source": [
        ""
      ],
      "execution_count": null,
      "outputs": []
    },
    {
      "cell_type": "code",
      "metadata": {
        "id": "q724M0agIDAU"
      },
      "source": [
        ""
      ],
      "execution_count": null,
      "outputs": []
    },
    {
      "cell_type": "code",
      "metadata": {
        "id": "orXW5-4jEe2y"
      },
      "source": [
        ""
      ],
      "execution_count": null,
      "outputs": []
    },
    {
      "cell_type": "code",
      "metadata": {
        "id": "G7PfrFLXEe5u"
      },
      "source": [
        ""
      ],
      "execution_count": null,
      "outputs": []
    },
    {
      "cell_type": "code",
      "metadata": {
        "id": "sn96UQiVEe82"
      },
      "source": [
        ""
      ],
      "execution_count": null,
      "outputs": []
    },
    {
      "cell_type": "code",
      "metadata": {
        "id": "oI3_vh6REe_x"
      },
      "source": [
        ""
      ],
      "execution_count": null,
      "outputs": []
    },
    {
      "cell_type": "code",
      "metadata": {
        "id": "KC5KuzX-EfCS"
      },
      "source": [
        ""
      ],
      "execution_count": null,
      "outputs": []
    },
    {
      "cell_type": "code",
      "metadata": {
        "id": "xBb--DRqEfF_"
      },
      "source": [
        ""
      ],
      "execution_count": null,
      "outputs": []
    },
    {
      "cell_type": "code",
      "metadata": {
        "id": "d4mHbCjPEfPO"
      },
      "source": [
        ""
      ],
      "execution_count": null,
      "outputs": []
    },
    {
      "cell_type": "code",
      "metadata": {
        "id": "SJyeIuE5EfSx"
      },
      "source": [
        ""
      ],
      "execution_count": null,
      "outputs": []
    },
    {
      "cell_type": "code",
      "metadata": {
        "id": "O14pCle0EfVe"
      },
      "source": [
        ""
      ],
      "execution_count": null,
      "outputs": []
    },
    {
      "cell_type": "code",
      "metadata": {
        "id": "MZDinsDDEfZS"
      },
      "source": [
        ""
      ],
      "execution_count": null,
      "outputs": []
    },
    {
      "cell_type": "code",
      "metadata": {
        "id": "PJLkJLjIEfce"
      },
      "source": [
        ""
      ],
      "execution_count": null,
      "outputs": []
    },
    {
      "cell_type": "code",
      "metadata": {
        "id": "QIQLr0GlEffr"
      },
      "source": [
        ""
      ],
      "execution_count": null,
      "outputs": []
    },
    {
      "cell_type": "code",
      "metadata": {
        "id": "uz-GzL3OEfh9"
      },
      "source": [
        ""
      ],
      "execution_count": null,
      "outputs": []
    },
    {
      "cell_type": "code",
      "metadata": {
        "id": "jeYBdbpIEfkP"
      },
      "source": [
        ""
      ],
      "execution_count": null,
      "outputs": []
    },
    {
      "cell_type": "code",
      "metadata": {
        "id": "Bdv_CkvkEfmp"
      },
      "source": [
        ""
      ],
      "execution_count": null,
      "outputs": []
    },
    {
      "cell_type": "code",
      "metadata": {
        "id": "XApF7nZTEfpJ"
      },
      "source": [
        ""
      ],
      "execution_count": null,
      "outputs": []
    },
    {
      "cell_type": "code",
      "metadata": {
        "id": "IGqIxiZvEfs9"
      },
      "source": [
        ""
      ],
      "execution_count": null,
      "outputs": []
    },
    {
      "cell_type": "code",
      "metadata": {
        "id": "DSE0OMpQEfvk"
      },
      "source": [
        ""
      ],
      "execution_count": null,
      "outputs": []
    },
    {
      "cell_type": "code",
      "metadata": {
        "id": "m0BQLdh7EfyH"
      },
      "source": [
        ""
      ],
      "execution_count": null,
      "outputs": []
    },
    {
      "cell_type": "code",
      "metadata": {
        "id": "iyZ5to7iEf0b"
      },
      "source": [
        ""
      ],
      "execution_count": null,
      "outputs": []
    },
    {
      "cell_type": "code",
      "metadata": {
        "id": "nySEzgIeEf27"
      },
      "source": [
        ""
      ],
      "execution_count": null,
      "outputs": []
    },
    {
      "cell_type": "code",
      "metadata": {
        "id": "We4XbfvfacB4"
      },
      "source": [
        ""
      ],
      "execution_count": null,
      "outputs": []
    },
    {
      "cell_type": "code",
      "metadata": {
        "id": "9lIkmWC7acEd"
      },
      "source": [
        ""
      ],
      "execution_count": null,
      "outputs": []
    },
    {
      "cell_type": "markdown",
      "metadata": {
        "id": "twfV36ChP4Ce"
      },
      "source": [
        "## Train a Network (convolutional approach)"
      ]
    },
    {
      "cell_type": "code",
      "metadata": {
        "id": "vcuC8NuAQPew",
        "colab": {
          "base_uri": "https://localhost:8080/"
        },
        "outputId": "554f4125-a834-4c72-df9f-f194f925d536"
      },
      "source": [
        "model = keras.Sequential([\n",
        "   keras.layers.Conv2D(64, 3, activation='relu', input_shape=(64,64,1)),\n",
        "   keras.layers.Conv2D(32, 3, activation='relu'),\n",
        "   keras.layers.Flatten(),\n",
        "   keras.layers.Dense(6, activation='softmax')\n",
        "])\n",
        "\n",
        "model.compile(optimizer='adam',\n",
        "              loss=keras.losses.SparseCategoricalCrossentropy(),\n",
        "              metrics=['accuracy'])\n",
        "\n",
        "model.fit(train_images, train_labels, epochs=8, batch_size=32)"
      ],
      "execution_count": 45,
      "outputs": [
        {
          "output_type": "stream",
          "text": [
            "Epoch 1/8\n",
            "27/27 [==============================] - 1s 10ms/step - loss: 2.6278 - accuracy: 0.1791\n",
            "Epoch 2/8\n",
            "27/27 [==============================] - 0s 9ms/step - loss: 1.7524 - accuracy: 0.3953\n",
            "Epoch 3/8\n",
            "27/27 [==============================] - 0s 8ms/step - loss: 1.6014 - accuracy: 0.5284\n",
            "Epoch 4/8\n",
            "27/27 [==============================] - 0s 8ms/step - loss: 1.2931 - accuracy: 0.6106\n",
            "Epoch 5/8\n",
            "27/27 [==============================] - 0s 8ms/step - loss: 1.0443 - accuracy: 0.6645\n",
            "Epoch 6/8\n",
            "27/27 [==============================] - 0s 8ms/step - loss: 0.9115 - accuracy: 0.6901\n",
            "Epoch 7/8\n",
            "27/27 [==============================] - 0s 8ms/step - loss: 0.7557 - accuracy: 0.7377\n",
            "Epoch 8/8\n",
            "27/27 [==============================] - 0s 8ms/step - loss: 0.6120 - accuracy: 0.8076\n"
          ],
          "name": "stdout"
        },
        {
          "output_type": "execute_result",
          "data": {
            "text/plain": [
              "<tensorflow.python.keras.callbacks.History at 0x7fc9d462c7b8>"
            ]
          },
          "metadata": {
            "tags": []
          },
          "execution_count": 45
        }
      ]
    },
    {
      "cell_type": "code",
      "metadata": {
        "id": "M2cAP7RCfsvP",
        "colab": {
          "base_uri": "https://localhost:8080/"
        },
        "outputId": "1cfdfbb1-c729-46d7-9fb8-37e42d7ec781"
      },
      "source": [
        "model.evaluate(test_images, test_labels)"
      ],
      "execution_count": 46,
      "outputs": [
        {
          "output_type": "stream",
          "text": [
            "4/4 [==============================] - 0s 5ms/step - loss: 0.7987 - accuracy: 0.7333\n"
          ],
          "name": "stdout"
        },
        {
          "output_type": "execute_result",
          "data": {
            "text/plain": [
              "[0.7987474203109741, 0.7333333492279053]"
            ]
          },
          "metadata": {
            "tags": []
          },
          "execution_count": 46
        }
      ]
    },
    {
      "cell_type": "markdown",
      "metadata": {
        "id": "3J6Q2DJ6hX7c"
      },
      "source": [
        "## A Better Convolutional Network"
      ]
    },
    {
      "cell_type": "code",
      "metadata": {
        "id": "yDAtTVtahbIj",
        "colab": {
          "base_uri": "https://localhost:8080/"
        },
        "outputId": "a026be6f-8d68-4271-9fe2-c1fd17ff461f"
      },
      "source": [
        "model = keras.Sequential([\n",
        "   keras.layers.AveragePooling2D(6,3, input_shape=(64,64,1)),\n",
        "   keras.layers.Conv2D(64, 3, activation='relu'),\n",
        "   keras.layers.Conv2D(32, 3, activation='relu'),\n",
        "   keras.layers.MaxPool2D(2,2),\n",
        "   keras.layers.Dropout(0.5),\n",
        "   keras.layers.Flatten(),\n",
        "   keras.layers.Dense(128, activation='relu'),\n",
        "   keras.layers.Dense(6, activation='softmax')\n",
        "])\n",
        "\n",
        "model.compile(optimizer='adam',\n",
        "              loss=keras.losses.SparseCategoricalCrossentropy(),\n",
        "              metrics=['accuracy'])\n",
        "\n",
        "model.fit(train_images, train_labels, epochs=50, batch_size=32)"
      ],
      "execution_count": null,
      "outputs": [
        {
          "output_type": "stream",
          "text": [
            "Epoch 1/50\n",
            "27/27 [==============================] - 0s 3ms/step - loss: 1.8119 - accuracy: 0.1666\n",
            "Epoch 2/50\n",
            "27/27 [==============================] - 0s 3ms/step - loss: 1.7908 - accuracy: 0.1960\n",
            "Epoch 3/50\n",
            "27/27 [==============================] - 0s 3ms/step - loss: 1.7830 - accuracy: 0.2887\n",
            "Epoch 4/50\n",
            "27/27 [==============================] - 0s 3ms/step - loss: 1.7486 - accuracy: 0.2945\n",
            "Epoch 5/50\n",
            "27/27 [==============================] - 0s 3ms/step - loss: 1.6260 - accuracy: 0.3753\n",
            "Epoch 6/50\n",
            "27/27 [==============================] - 0s 3ms/step - loss: 1.4895 - accuracy: 0.4223\n",
            "Epoch 7/50\n",
            "27/27 [==============================] - 0s 3ms/step - loss: 1.3699 - accuracy: 0.4863\n",
            "Epoch 8/50\n",
            "27/27 [==============================] - 0s 3ms/step - loss: 1.2749 - accuracy: 0.4975\n",
            "Epoch 9/50\n",
            "27/27 [==============================] - 0s 3ms/step - loss: 1.2328 - accuracy: 0.5240\n",
            "Epoch 10/50\n",
            "27/27 [==============================] - 0s 3ms/step - loss: 1.2211 - accuracy: 0.5652\n",
            "Epoch 11/50\n",
            "27/27 [==============================] - 0s 3ms/step - loss: 1.2690 - accuracy: 0.5337\n",
            "Epoch 12/50\n",
            "27/27 [==============================] - 0s 3ms/step - loss: 1.1375 - accuracy: 0.5882\n",
            "Epoch 13/50\n",
            "27/27 [==============================] - 0s 3ms/step - loss: 1.0948 - accuracy: 0.6067\n",
            "Epoch 14/50\n",
            "27/27 [==============================] - 0s 3ms/step - loss: 0.9939 - accuracy: 0.6509\n",
            "Epoch 15/50\n",
            "27/27 [==============================] - 0s 3ms/step - loss: 0.9720 - accuracy: 0.6836\n",
            "Epoch 16/50\n",
            "27/27 [==============================] - 0s 3ms/step - loss: 0.8972 - accuracy: 0.6600\n",
            "Epoch 17/50\n",
            "27/27 [==============================] - 0s 3ms/step - loss: 0.9477 - accuracy: 0.6435\n",
            "Epoch 18/50\n",
            "27/27 [==============================] - 0s 3ms/step - loss: 0.8679 - accuracy: 0.6720\n",
            "Epoch 19/50\n",
            "27/27 [==============================] - 0s 3ms/step - loss: 0.8609 - accuracy: 0.6713\n",
            "Epoch 20/50\n",
            "27/27 [==============================] - 0s 3ms/step - loss: 0.9932 - accuracy: 0.6348\n",
            "Epoch 21/50\n",
            "27/27 [==============================] - 0s 3ms/step - loss: 0.8147 - accuracy: 0.6873\n",
            "Epoch 22/50\n",
            "27/27 [==============================] - 0s 3ms/step - loss: 0.8439 - accuracy: 0.7107\n",
            "Epoch 23/50\n",
            "27/27 [==============================] - 0s 3ms/step - loss: 0.7152 - accuracy: 0.7531\n",
            "Epoch 24/50\n",
            "27/27 [==============================] - 0s 3ms/step - loss: 0.6747 - accuracy: 0.7512\n",
            "Epoch 25/50\n",
            "27/27 [==============================] - 0s 3ms/step - loss: 0.6546 - accuracy: 0.7793\n",
            "Epoch 26/50\n",
            "27/27 [==============================] - 0s 3ms/step - loss: 0.6302 - accuracy: 0.7671\n",
            "Epoch 27/50\n",
            "27/27 [==============================] - 0s 3ms/step - loss: 0.6295 - accuracy: 0.7824\n",
            "Epoch 28/50\n",
            "27/27 [==============================] - 0s 3ms/step - loss: 0.6062 - accuracy: 0.7855\n",
            "Epoch 29/50\n",
            "27/27 [==============================] - 0s 3ms/step - loss: 0.6248 - accuracy: 0.7889\n",
            "Epoch 30/50\n",
            "27/27 [==============================] - 0s 3ms/step - loss: 0.5828 - accuracy: 0.7867\n",
            "Epoch 31/50\n",
            "27/27 [==============================] - 0s 3ms/step - loss: 0.5688 - accuracy: 0.7801\n",
            "Epoch 32/50\n",
            "27/27 [==============================] - 0s 3ms/step - loss: 0.5367 - accuracy: 0.8038\n",
            "Epoch 33/50\n",
            "27/27 [==============================] - 0s 3ms/step - loss: 0.5148 - accuracy: 0.8107\n",
            "Epoch 34/50\n",
            "27/27 [==============================] - 0s 3ms/step - loss: 0.5245 - accuracy: 0.8074\n",
            "Epoch 35/50\n",
            "27/27 [==============================] - 0s 3ms/step - loss: 0.5198 - accuracy: 0.8054\n",
            "Epoch 36/50\n",
            "27/27 [==============================] - 0s 3ms/step - loss: 0.5523 - accuracy: 0.8012\n",
            "Epoch 37/50\n",
            "27/27 [==============================] - 0s 3ms/step - loss: 0.4928 - accuracy: 0.8226\n",
            "Epoch 38/50\n",
            "27/27 [==============================] - 0s 3ms/step - loss: 0.4618 - accuracy: 0.8249\n",
            "Epoch 39/50\n",
            "27/27 [==============================] - 0s 3ms/step - loss: 0.4928 - accuracy: 0.8233\n",
            "Epoch 40/50\n",
            "27/27 [==============================] - 0s 3ms/step - loss: 0.4531 - accuracy: 0.8377\n",
            "Epoch 41/50\n",
            "27/27 [==============================] - 0s 3ms/step - loss: 0.4663 - accuracy: 0.8362\n",
            "Epoch 42/50\n",
            "27/27 [==============================] - 0s 3ms/step - loss: 0.4843 - accuracy: 0.8396\n",
            "Epoch 43/50\n",
            "27/27 [==============================] - 0s 3ms/step - loss: 0.4125 - accuracy: 0.8707\n",
            "Epoch 44/50\n",
            "27/27 [==============================] - 0s 3ms/step - loss: 0.4354 - accuracy: 0.8639\n",
            "Epoch 45/50\n",
            "27/27 [==============================] - 0s 3ms/step - loss: 0.4190 - accuracy: 0.8542\n",
            "Epoch 46/50\n",
            "27/27 [==============================] - 0s 3ms/step - loss: 0.3613 - accuracy: 0.8818\n",
            "Epoch 47/50\n",
            "27/27 [==============================] - 0s 3ms/step - loss: 0.4081 - accuracy: 0.8560\n",
            "Epoch 48/50\n",
            "27/27 [==============================] - 0s 3ms/step - loss: 0.4144 - accuracy: 0.8497\n",
            "Epoch 49/50\n",
            "27/27 [==============================] - 0s 3ms/step - loss: 0.4056 - accuracy: 0.8510\n",
            "Epoch 50/50\n",
            "27/27 [==============================] - 0s 3ms/step - loss: 0.3737 - accuracy: 0.8798\n"
          ],
          "name": "stdout"
        },
        {
          "output_type": "execute_result",
          "data": {
            "text/plain": [
              "<tensorflow.python.keras.callbacks.History at 0x7f2ebb091710>"
            ]
          },
          "metadata": {
            "tags": []
          },
          "execution_count": 192
        }
      ]
    },
    {
      "cell_type": "code",
      "metadata": {
        "id": "yjTdABs_ibEO",
        "colab": {
          "base_uri": "https://localhost:8080/"
        },
        "outputId": "0f578bbd-44dc-4359-97a0-0a17f6e4a646"
      },
      "source": [
        "model.evaluate(test_images,test_labels)"
      ],
      "execution_count": null,
      "outputs": [
        {
          "output_type": "stream",
          "text": [
            "4/4 [==============================] - 0s 3ms/step - loss: 0.4202 - accuracy: 0.8667\n"
          ],
          "name": "stdout"
        },
        {
          "output_type": "execute_result",
          "data": {
            "text/plain": [
              "[0.42015400528907776, 0.8666666746139526]"
            ]
          },
          "metadata": {
            "tags": []
          },
          "execution_count": 193
        }
      ]
    },
    {
      "cell_type": "markdown",
      "metadata": {
        "id": "nhGv_IdwOpBF"
      },
      "source": [
        "## Hyperparameter Tuning"
      ]
    },
    {
      "cell_type": "code",
      "metadata": {
        "id": "1NLw5d4VPsBH",
        "colab": {
          "base_uri": "https://localhost:8080/"
        },
        "outputId": "e6a5b5d6-323a-4080-b400-66e5c014729d"
      },
      "source": [
        "pip install -U keras-tuner"
      ],
      "execution_count": null,
      "outputs": [
        {
          "output_type": "stream",
          "text": [
            "Requirement already up-to-date: keras-tuner in /usr/local/lib/python3.6/dist-packages (1.0.2)\n",
            "Requirement already satisfied, skipping upgrade: requests in /usr/local/lib/python3.6/dist-packages (from keras-tuner) (2.23.0)\n",
            "Requirement already satisfied, skipping upgrade: packaging in /usr/local/lib/python3.6/dist-packages (from keras-tuner) (20.9)\n",
            "Requirement already satisfied, skipping upgrade: colorama in /usr/local/lib/python3.6/dist-packages (from keras-tuner) (0.4.4)\n",
            "Requirement already satisfied, skipping upgrade: scipy in /usr/local/lib/python3.6/dist-packages (from keras-tuner) (1.4.1)\n",
            "Requirement already satisfied, skipping upgrade: numpy in /usr/local/lib/python3.6/dist-packages (from keras-tuner) (1.19.5)\n",
            "Requirement already satisfied, skipping upgrade: terminaltables in /usr/local/lib/python3.6/dist-packages (from keras-tuner) (3.1.0)\n",
            "Requirement already satisfied, skipping upgrade: scikit-learn in /usr/local/lib/python3.6/dist-packages (from keras-tuner) (0.22.2.post1)\n",
            "Requirement already satisfied, skipping upgrade: future in /usr/local/lib/python3.6/dist-packages (from keras-tuner) (0.16.0)\n",
            "Requirement already satisfied, skipping upgrade: tqdm in /usr/local/lib/python3.6/dist-packages (from keras-tuner) (4.41.1)\n",
            "Requirement already satisfied, skipping upgrade: tabulate in /usr/local/lib/python3.6/dist-packages (from keras-tuner) (0.8.7)\n",
            "Requirement already satisfied, skipping upgrade: chardet<4,>=3.0.2 in /usr/local/lib/python3.6/dist-packages (from requests->keras-tuner) (3.0.4)\n",
            "Requirement already satisfied, skipping upgrade: urllib3!=1.25.0,!=1.25.1,<1.26,>=1.21.1 in /usr/local/lib/python3.6/dist-packages (from requests->keras-tuner) (1.24.3)\n",
            "Requirement already satisfied, skipping upgrade: certifi>=2017.4.17 in /usr/local/lib/python3.6/dist-packages (from requests->keras-tuner) (2020.12.5)\n",
            "Requirement already satisfied, skipping upgrade: idna<3,>=2.5 in /usr/local/lib/python3.6/dist-packages (from requests->keras-tuner) (2.10)\n",
            "Requirement already satisfied, skipping upgrade: pyparsing>=2.0.2 in /usr/local/lib/python3.6/dist-packages (from packaging->keras-tuner) (2.4.7)\n",
            "Requirement already satisfied, skipping upgrade: joblib>=0.11 in /usr/local/lib/python3.6/dist-packages (from scikit-learn->keras-tuner) (1.0.0)\n"
          ],
          "name": "stdout"
        }
      ]
    },
    {
      "cell_type": "code",
      "metadata": {
        "id": "p0YZ-MS8Pyfj",
        "colab": {
          "base_uri": "https://localhost:8080/"
        },
        "outputId": "b234388b-de6c-4cee-9add-61f41489792f"
      },
      "source": [
        "from kerastuner.tuners import RandomSearch\n",
        "\n",
        "def build_model(hp):\n",
        "  model = keras.Sequential()\n",
        "\n",
        "  model.add(keras.layers.AveragePooling2D(6,3,input_shape=(64,64,1)))\n",
        "\n",
        "  for i in range(hp.Int(\"Conv Layers\", min_value=0, max_value=3)):\n",
        "    model.add(keras.layers.Conv2D(hp.Choice(f\"layer_{i}_filters\", [16,32,64]), 3, activation='relu'))\n",
        "  \n",
        "  model.add(keras.layers.MaxPool2D(2,2))\n",
        "  model.add(keras.layers.Dropout(0.5))\n",
        "  model.add(keras.layers.Flatten())\n",
        "\n",
        "  model.add(keras.layers.Dense(hp.Choice(\"Dense layer\", [64, 128, 256, 512, 1024]), activation='relu'))\n",
        "\n",
        "  model.add(keras.layers.Dense(6, activation='softmax'))\n",
        "\n",
        "  model.compile(optimizer='adam',\n",
        "              loss=keras.losses.SparseCategoricalCrossentropy(),\n",
        "              metrics=['accuracy'])\n",
        "  \n",
        "  return model\n",
        "\n",
        "tuner = RandomSearch(\n",
        "    build_model,\n",
        "    objective='val_accuracy',\n",
        "    max_trials=32,\n",
        ")\n",
        "\n",
        "tuner.search(train_images, train_labels, validation_data=(test_images, test_labels), epochs=10, batch_size=32)"
      ],
      "execution_count": null,
      "outputs": [
        {
          "output_type": "stream",
          "text": [
            "INFO:tensorflow:Reloading Oracle from existing project ./untitled_project/oracle.json\n",
            "INFO:tensorflow:Reloading Tuner from ./untitled_project/tuner0.json\n",
            "INFO:tensorflow:Oracle triggered exit\n"
          ],
          "name": "stdout"
        }
      ]
    },
    {
      "cell_type": "code",
      "metadata": {
        "id": "qToIwc_4Ra5m"
      },
      "source": [
        "best_model = tuner.get_best_models()[0]"
      ],
      "execution_count": null,
      "outputs": []
    },
    {
      "cell_type": "code",
      "metadata": {
        "id": "TYSqdP6ESLXs",
        "colab": {
          "base_uri": "https://localhost:8080/"
        },
        "outputId": "1f60f779-33ef-4970-a6ae-3a7007bdbe7f"
      },
      "source": [
        "best_model.evaluate(test_images, test_labels)"
      ],
      "execution_count": null,
      "outputs": [
        {
          "output_type": "stream",
          "text": [
            "4/4 [==============================] - 0s 3ms/step - loss: 0.6216 - accuracy: 0.8331\n"
          ],
          "name": "stdout"
        },
        {
          "output_type": "execute_result",
          "data": {
            "text/plain": [
              "[0.6081161499023438, 0.824999988079071]"
            ]
          },
          "metadata": {
            "tags": []
          },
          "execution_count": 182
        }
      ]
    },
    {
      "cell_type": "code",
      "metadata": {
        "id": "wLwXpc48SSsR",
        "colab": {
          "base_uri": "https://localhost:8080/"
        },
        "outputId": "aef1ed89-4705-45c4-8353-a97bd00028d8"
      },
      "source": [
        "best_model.summary()"
      ],
      "execution_count": null,
      "outputs": [
        {
          "output_type": "stream",
          "text": [
            "Model: \"sequential\"\n",
            "_________________________________________________________________\n",
            "Layer (type)                 Output Shape              Param #   \n",
            "=================================================================\n",
            "average_pooling2d (AveragePo (None, 20, 20, 1)         0         \n",
            "_________________________________________________________________\n",
            "conv2d (Conv2D)              (None, 18, 18, 16)        160       \n",
            "_________________________________________________________________\n",
            "conv2d_1 (Conv2D)            (None, 16, 16, 32)        4640      \n",
            "_________________________________________________________________\n",
            "max_pooling2d (MaxPooling2D) (None, 8, 8, 32)          0         \n",
            "_________________________________________________________________\n",
            "dropout (Dropout)            (None, 8, 8, 32)          0         \n",
            "_________________________________________________________________\n",
            "flatten (Flatten)            (None, 2048)              0         \n",
            "_________________________________________________________________\n",
            "dense (Dense)                (None, 512)               1049088   \n",
            "_________________________________________________________________\n",
            "dense_1 (Dense)              (None, 6)                 3078      \n",
            "=================================================================\n",
            "Total params: 1,056,966\n",
            "Trainable params: 1,056,966\n",
            "Non-trainable params: 0\n",
            "_________________________________________________________________\n"
          ],
          "name": "stdout"
        }
      ]
    },
    {
      "cell_type": "code",
      "metadata": {
        "id": "gnMIqU79SghT",
        "colab": {
          "base_uri": "https://localhost:8080/"
        },
        "outputId": "ed83d54a-7af7-4b67-e9a2-3cff2bcfb44d"
      },
      "source": [
        "tuner.results_summary()"
      ],
      "execution_count": null,
      "outputs": [
        {
          "output_type": "stream",
          "text": [
            "Results summary\n",
            "Results in ./untitled_project\n",
            "Showing 10 best trials\n",
            "Objective(name='val_accuracy', direction='max')\n",
            "Trial summary\n",
            "Hyperparameters:\n",
            "Conv Layers: 3\n",
            "Dense layer: 512\n",
            "layer_0_filters: 32\n",
            "layer_1_filters: 32\n",
            "layer_2_filters: 16\n",
            "Score: 0.8279569745063782\n",
            "Trial summary\n",
            "Hyperparameters:\n",
            "Conv Layers: 2\n",
            "Dense layer: 64\n",
            "layer_0_filters: 32\n",
            "layer_1_filters: 16\n",
            "layer_2_filters: 16\n",
            "Score: 0.8145161271095276\n",
            "Trial summary\n",
            "Hyperparameters:\n",
            "Conv Layers: 3\n",
            "Dense layer: 1024\n",
            "layer_0_filters: 16\n",
            "layer_1_filters: 64\n",
            "layer_2_filters: 16\n",
            "Score: 0.7956989407539368\n",
            "Trial summary\n",
            "Hyperparameters:\n",
            "Conv Layers: 1\n",
            "Dense layer: 128\n",
            "layer_0_filters: 32\n",
            "layer_1_filters: 64\n",
            "layer_2_filters: 64\n",
            "Score: 0.774193525314331\n",
            "Trial summary\n",
            "Hyperparameters:\n",
            "Conv Layers: 3\n",
            "Dense layer: 512\n",
            "layer_0_filters: 16\n",
            "layer_1_filters: 32\n",
            "layer_2_filters: 64\n",
            "Score: 0.7715053558349609\n",
            "Trial summary\n",
            "Hyperparameters:\n",
            "Conv Layers: 1\n",
            "Dense layer: 128\n",
            "layer_0_filters: 16\n",
            "layer_1_filters: 64\n",
            "layer_2_filters: 16\n",
            "Score: 0.7715053558349609\n",
            "Trial summary\n",
            "Hyperparameters:\n",
            "Conv Layers: 2\n",
            "Dense layer: 256\n",
            "layer_0_filters: 64\n",
            "layer_1_filters: 32\n",
            "layer_2_filters: 64\n",
            "Score: 0.7688171863555908\n",
            "Trial summary\n",
            "Hyperparameters:\n",
            "Conv Layers: 1\n",
            "Dense layer: 256\n",
            "layer_0_filters: 32\n",
            "layer_1_filters: 64\n",
            "layer_2_filters: 32\n",
            "Score: 0.7634408473968506\n",
            "Trial summary\n",
            "Hyperparameters:\n",
            "Conv Layers: 2\n",
            "Dense layer: 256\n",
            "layer_0_filters: 32\n",
            "layer_1_filters: 64\n",
            "layer_2_filters: 16\n",
            "Score: 0.7580645084381104\n",
            "Trial summary\n",
            "Hyperparameters:\n",
            "Conv Layers: 2\n",
            "Dense layer: 512\n",
            "layer_0_filters: 32\n",
            "layer_1_filters: 16\n",
            "layer_2_filters: 32\n",
            "Score: 0.7553763389587402\n"
          ],
          "name": "stdout"
        }
      ]
    },
    {
      "cell_type": "markdown",
      "metadata": {
        "id": "M-0N12CPSmJz"
      },
      "source": [
        "# Miscellaneous Useful Techniques\n",
        "## Save & Load our Models\n"
      ]
    },
    {
      "cell_type": "code",
      "metadata": {
        "colab": {
          "base_uri": "https://localhost:8080/"
        },
        "id": "9KDLv5cuNj0W",
        "outputId": "4b9dc790-50ed-4e41-98e2-9df2f9b7674a"
      },
      "source": [
        "model.save('./my_modelo_burro')"
      ],
      "execution_count": null,
      "outputs": [
        {
          "output_type": "stream",
          "text": [
            "INFO:tensorflow:Assets written to: ./my_modelo_burro/assets\n"
          ],
          "name": "stdout"
        }
      ]
    },
    {
      "cell_type": "code",
      "metadata": {
        "id": "E5bkiowmUBhK",
        "colab": {
          "base_uri": "https://localhost:8080/"
        },
        "outputId": "53ce6465-15b7-474f-c149-e775d5460b15"
      },
      "source": [
        "best_model.save('./my_model')"
      ],
      "execution_count": null,
      "outputs": [
        {
          "output_type": "stream",
          "text": [
            "INFO:tensorflow:Assets written to: ./my_model/assets\n"
          ],
          "name": "stdout"
        }
      ]
    },
    {
      "cell_type": "code",
      "metadata": {
        "id": "vnFWB58gUFCr",
        "colab": {
          "base_uri": "https://localhost:8080/",
          "height": 306
        },
        "outputId": "5b0fc533-0f06-4093-ab27-4a3c88c7a424"
      },
      "source": [
        "loaded_model = keras.models.load_model('./my_model')"
      ],
      "execution_count": null,
      "outputs": [
        {
          "output_type": "error",
          "ename": "OSError",
          "evalue": "ignored",
          "traceback": [
            "\u001b[0;31m---------------------------------------------------------------------------\u001b[0m",
            "\u001b[0;31mOSError\u001b[0m                                   Traceback (most recent call last)",
            "\u001b[0;32m<ipython-input-30-f2e712d4e9f7>\u001b[0m in \u001b[0;36m<module>\u001b[0;34m()\u001b[0m\n\u001b[0;32m----> 1\u001b[0;31m \u001b[0mloaded_model\u001b[0m \u001b[0;34m=\u001b[0m \u001b[0mkeras\u001b[0m\u001b[0;34m.\u001b[0m\u001b[0mmodels\u001b[0m\u001b[0;34m.\u001b[0m\u001b[0mload_model\u001b[0m\u001b[0;34m(\u001b[0m\u001b[0;34m'./my_model'\u001b[0m\u001b[0;34m)\u001b[0m\u001b[0;34m\u001b[0m\u001b[0;34m\u001b[0m\u001b[0m\n\u001b[0m",
            "\u001b[0;32m/usr/local/lib/python3.6/dist-packages/tensorflow/python/keras/saving/save.py\u001b[0m in \u001b[0;36mload_model\u001b[0;34m(filepath, custom_objects, compile, options)\u001b[0m\n\u001b[1;32m    209\u001b[0m       \u001b[0mfilepath\u001b[0m \u001b[0;34m=\u001b[0m \u001b[0mpath_to_string\u001b[0m\u001b[0;34m(\u001b[0m\u001b[0mfilepath\u001b[0m\u001b[0;34m)\u001b[0m\u001b[0;34m\u001b[0m\u001b[0;34m\u001b[0m\u001b[0m\n\u001b[1;32m    210\u001b[0m       \u001b[0;32mif\u001b[0m \u001b[0misinstance\u001b[0m\u001b[0;34m(\u001b[0m\u001b[0mfilepath\u001b[0m\u001b[0;34m,\u001b[0m \u001b[0msix\u001b[0m\u001b[0;34m.\u001b[0m\u001b[0mstring_types\u001b[0m\u001b[0;34m)\u001b[0m\u001b[0;34m:\u001b[0m\u001b[0;34m\u001b[0m\u001b[0;34m\u001b[0m\u001b[0m\n\u001b[0;32m--> 211\u001b[0;31m         \u001b[0mloader_impl\u001b[0m\u001b[0;34m.\u001b[0m\u001b[0mparse_saved_model\u001b[0m\u001b[0;34m(\u001b[0m\u001b[0mfilepath\u001b[0m\u001b[0;34m)\u001b[0m\u001b[0;34m\u001b[0m\u001b[0;34m\u001b[0m\u001b[0m\n\u001b[0m\u001b[1;32m    212\u001b[0m         \u001b[0;32mreturn\u001b[0m \u001b[0msaved_model_load\u001b[0m\u001b[0;34m.\u001b[0m\u001b[0mload\u001b[0m\u001b[0;34m(\u001b[0m\u001b[0mfilepath\u001b[0m\u001b[0;34m,\u001b[0m \u001b[0mcompile\u001b[0m\u001b[0;34m,\u001b[0m \u001b[0moptions\u001b[0m\u001b[0;34m)\u001b[0m\u001b[0;34m\u001b[0m\u001b[0;34m\u001b[0m\u001b[0m\n\u001b[1;32m    213\u001b[0m \u001b[0;34m\u001b[0m\u001b[0m\n",
            "\u001b[0;32m/usr/local/lib/python3.6/dist-packages/tensorflow/python/saved_model/loader_impl.py\u001b[0m in \u001b[0;36mparse_saved_model\u001b[0;34m(export_dir)\u001b[0m\n\u001b[1;32m    112\u001b[0m                   (export_dir,\n\u001b[1;32m    113\u001b[0m                    \u001b[0mconstants\u001b[0m\u001b[0;34m.\u001b[0m\u001b[0mSAVED_MODEL_FILENAME_PBTXT\u001b[0m\u001b[0;34m,\u001b[0m\u001b[0;34m\u001b[0m\u001b[0;34m\u001b[0m\u001b[0m\n\u001b[0;32m--> 114\u001b[0;31m                    constants.SAVED_MODEL_FILENAME_PB))\n\u001b[0m\u001b[1;32m    115\u001b[0m \u001b[0;34m\u001b[0m\u001b[0m\n\u001b[1;32m    116\u001b[0m \u001b[0;34m\u001b[0m\u001b[0m\n",
            "\u001b[0;31mOSError\u001b[0m: SavedModel file does not exist at: ./my_model/{saved_model.pbtxt|saved_model.pb}"
          ]
        }
      ]
    },
    {
      "cell_type": "code",
      "metadata": {
        "id": "yvaGztASUN9i",
        "colab": {
          "base_uri": "https://localhost:8080/"
        },
        "outputId": "d4577ed3-22aa-42bb-a7b0-8122fd19640e"
      },
      "source": [
        "loaded_model.evaluate(test_images, test_labels)"
      ],
      "execution_count": null,
      "outputs": [
        {
          "output_type": "stream",
          "text": [
            "4/4 [==============================] - 0s 3ms/step - loss: 0.6081 - accuracy: 0.8250\n"
          ],
          "name": "stdout"
        },
        {
          "output_type": "execute_result",
          "data": {
            "text/plain": [
              "[0.6081161499023438, 0.824999988079071]"
            ]
          },
          "metadata": {
            "tags": []
          },
          "execution_count": 219
        }
      ]
    },
    {
      "cell_type": "code",
      "metadata": {
        "id": "ScP7inmUr-lO"
      },
      "source": [
        "tf.keras.models.save_model(model,'my_modelo_burroo.hdf5')"
      ],
      "execution_count": null,
      "outputs": []
    },
    {
      "cell_type": "markdown",
      "metadata": {
        "id": "O_tDBoCCUTZS"
      },
      "source": [
        "## Plot Image from Numpy Array"
      ]
    },
    {
      "cell_type": "markdown",
      "metadata": {
        "id": "1zUOTuQLOhUN"
      },
      "source": [
        "## Use Model to Predict Result for Single Example"
      ]
    },
    {
      "cell_type": "code",
      "metadata": {
        "colab": {
          "base_uri": "https://localhost:8080/"
        },
        "id": "jK4jfIT7TpqJ",
        "outputId": "dcbb4aec-dfe9-42a9-fe11-b557e377e78d"
      },
      "source": [
        "train_images[151].shape"
      ],
      "execution_count": null,
      "outputs": [
        {
          "output_type": "execute_result",
          "data": {
            "text/plain": [
              "(64, 64, 1)"
            ]
          },
          "metadata": {
            "tags": []
          },
          "execution_count": 34
        }
      ]
    },
    {
      "cell_type": "code",
      "metadata": {
        "id": "51RnZwR5WoBc",
        "colab": {
          "base_uri": "https://localhost:8080/",
          "height": 231
        },
        "outputId": "e82f77e2-fde2-400a-a398-f8ee44dfaab9"
      },
      "source": [
        "result = best_model.predict(np.array([train_images[151]]))\n",
        "print(result)\n",
        "\n",
        "predicted_value = np.argmax(result)\n",
        "print(predicted_value)"
      ],
      "execution_count": null,
      "outputs": [
        {
          "output_type": "error",
          "ename": "NameError",
          "evalue": "ignored",
          "traceback": [
            "\u001b[0;31m---------------------------------------------------------------------------\u001b[0m",
            "\u001b[0;31mNameError\u001b[0m                                 Traceback (most recent call last)",
            "\u001b[0;32m<ipython-input-28-13ff996815a7>\u001b[0m in \u001b[0;36m<module>\u001b[0;34m()\u001b[0m\n\u001b[0;32m----> 1\u001b[0;31m \u001b[0mresult\u001b[0m \u001b[0;34m=\u001b[0m \u001b[0mbest_model\u001b[0m\u001b[0;34m.\u001b[0m\u001b[0mpredict\u001b[0m\u001b[0;34m(\u001b[0m\u001b[0mnp\u001b[0m\u001b[0;34m.\u001b[0m\u001b[0marray\u001b[0m\u001b[0;34m(\u001b[0m\u001b[0;34m[\u001b[0m\u001b[0mtrain_images\u001b[0m\u001b[0;34m[\u001b[0m\u001b[0;36m151\u001b[0m\u001b[0;34m]\u001b[0m\u001b[0;34m]\u001b[0m\u001b[0;34m)\u001b[0m\u001b[0;34m)\u001b[0m\u001b[0;34m\u001b[0m\u001b[0;34m\u001b[0m\u001b[0m\n\u001b[0m\u001b[1;32m      2\u001b[0m \u001b[0mprint\u001b[0m\u001b[0;34m(\u001b[0m\u001b[0mresult\u001b[0m\u001b[0;34m)\u001b[0m\u001b[0;34m\u001b[0m\u001b[0;34m\u001b[0m\u001b[0m\n\u001b[1;32m      3\u001b[0m \u001b[0;34m\u001b[0m\u001b[0m\n\u001b[1;32m      4\u001b[0m \u001b[0mpredicted_value\u001b[0m \u001b[0;34m=\u001b[0m \u001b[0mnp\u001b[0m\u001b[0;34m.\u001b[0m\u001b[0margmax\u001b[0m\u001b[0;34m(\u001b[0m\u001b[0mresult\u001b[0m\u001b[0;34m)\u001b[0m\u001b[0;34m\u001b[0m\u001b[0;34m\u001b[0m\u001b[0m\n\u001b[1;32m      5\u001b[0m \u001b[0mprint\u001b[0m\u001b[0;34m(\u001b[0m\u001b[0mpredicted_value\u001b[0m\u001b[0;34m)\u001b[0m\u001b[0;34m\u001b[0m\u001b[0;34m\u001b[0m\u001b[0m\n",
            "\u001b[0;31mNameError\u001b[0m: name 'best_model' is not defined"
          ]
        }
      ]
    },
    {
      "cell_type": "code",
      "metadata": {
        "colab": {
          "base_uri": "https://localhost:8080/"
        },
        "id": "ypLj_QUvnJTB",
        "outputId": "a27262af-2ece-4127-e091-d1cbf2dff79f"
      },
      "source": [
        "\r\n",
        "result = model.predict(np.array([np.asarray(imageio.imread('/content/drive/MyDrive/Colab Notebooks/64x64_SIGNS/test_signs/0_IMG_5942.jpg'))[:,:,0]]))\r\n",
        "print(result)\r\n",
        "\r\n",
        "predicted_value = np.argmax(result)\r\n",
        "print(predicted_value)"
      ],
      "execution_count": null,
      "outputs": [
        {
          "output_type": "stream",
          "text": [
            "[[1. 0. 0. 0. 0. 0.]]\n",
            "0\n"
          ],
          "name": "stdout"
        }
      ]
    },
    {
      "cell_type": "code",
      "metadata": {
        "colab": {
          "base_uri": "https://localhost:8080/"
        },
        "id": "omiMKqsxXbs4",
        "outputId": "868bab9d-325f-4826-d3dc-36f1b728234f"
      },
      "source": [
        "result = model.predict(np.array([train_images[151]]))\n",
        "print(result)\n",
        "\n",
        "predicted_value = np.argmax(result)\n",
        "print(predicted_value)"
      ],
      "execution_count": null,
      "outputs": [
        {
          "output_type": "stream",
          "text": [
            "[[6.3477160e-04 9.8693895e-01 7.1239169e-03 1.7850508e-04 4.5462744e-03\n",
            "  5.7757046e-04]]\n",
            "1\n"
          ],
          "name": "stdout"
        }
      ]
    },
    {
      "cell_type": "code",
      "metadata": {
        "colab": {
          "base_uri": "https://localhost:8080/"
        },
        "id": "EAumVVJPn6DE",
        "outputId": "4f3b201b-bed4-48cb-fae7-34f13c5641dd"
      },
      "source": [
        "result = model.predict(np.array(train_images[[151]]))\r\n",
        "print(result)\r\n",
        "\r\n",
        "predicted_value = np.argmax(result)\r\n",
        "print(predicted_value)"
      ],
      "execution_count": null,
      "outputs": [
        {
          "output_type": "stream",
          "text": [
            "[[6.3477160e-04 9.8693895e-01 7.1239169e-03 1.7850508e-04 4.5462744e-03\n",
            "  5.7757046e-04]]\n",
            "1\n"
          ],
          "name": "stdout"
        }
      ]
    },
    {
      "cell_type": "code",
      "metadata": {
        "colab": {
          "base_uri": "https://localhost:8080/"
        },
        "id": "IbtCZgGDp1Zp",
        "outputId": "98017555-6f59-4385-a754-eb088b2c598c"
      },
      "source": [
        "result[0][0]"
      ],
      "execution_count": null,
      "outputs": [
        {
          "output_type": "execute_result",
          "data": {
            "text/plain": [
              "0.0006347716"
            ]
          },
          "metadata": {
            "tags": []
          },
          "execution_count": 58
        }
      ]
    },
    {
      "cell_type": "code",
      "metadata": {
        "colab": {
          "base_uri": "https://localhost:8080/"
        },
        "id": "a4hgMjdXXbBS",
        "outputId": "dbc50bf8-a48c-4b79-ea79-1026483b46cc"
      },
      "source": [
        "np.array([train_images[151]]).shape"
      ],
      "execution_count": null,
      "outputs": [
        {
          "output_type": "execute_result",
          "data": {
            "text/plain": [
              "(1, 64, 64, 1)"
            ]
          },
          "metadata": {
            "tags": []
          },
          "execution_count": 60
        }
      ]
    },
    {
      "cell_type": "code",
      "metadata": {
        "colab": {
          "base_uri": "https://localhost:8080/"
        },
        "id": "xZt_ey5joL49",
        "outputId": "42845bfb-a142-42b8-923e-9da8f7a88616"
      },
      "source": [
        "np.array([np.asarray(imageio.imread('/content/drive/MyDrive/Colab Notebooks/64x64_SIGNS/test_signs/0_IMG_5942.jpg'))[:,:,0]]).shape"
      ],
      "execution_count": null,
      "outputs": [
        {
          "output_type": "execute_result",
          "data": {
            "text/plain": [
              "(1, 64, 64)"
            ]
          },
          "metadata": {
            "tags": []
          },
          "execution_count": 61
        }
      ]
    },
    {
      "cell_type": "code",
      "metadata": {
        "id": "EvgO8bULoMCq"
      },
      "source": [
        ""
      ],
      "execution_count": null,
      "outputs": []
    },
    {
      "cell_type": "code",
      "metadata": {
        "colab": {
          "base_uri": "https://localhost:8080/"
        },
        "id": "7Y-FzqmznBz5",
        "outputId": "e31b06e3-daca-4d43-f0e3-baa6bec32c1c"
      },
      "source": [
        "train_images[151]"
      ],
      "execution_count": null,
      "outputs": [
        {
          "output_type": "execute_result",
          "data": {
            "text/plain": [
              "array([[223, 226, 228, ..., 229, 229, 229],\n",
              "       [223, 226, 227, ..., 229, 229, 229],\n",
              "       [223, 225, 227, ..., 229, 229, 229],\n",
              "       ...,\n",
              "       [206, 204, 203, ..., 206, 207, 207],\n",
              "       [204, 204, 202, ..., 205, 206, 206],\n",
              "       [203, 203, 201, ..., 205, 206, 206]], dtype=uint8)"
            ]
          },
          "metadata": {
            "tags": []
          },
          "execution_count": 27
        }
      ]
    },
    {
      "cell_type": "code",
      "metadata": {
        "colab": {
          "base_uri": "https://localhost:8080/"
        },
        "id": "8TKz6slIm6ty",
        "outputId": "7dfd2455-e17e-4e73-a400-2dd07fc9d733"
      },
      "source": [
        "[train_images[151]]"
      ],
      "execution_count": null,
      "outputs": [
        {
          "output_type": "execute_result",
          "data": {
            "text/plain": [
              "[array([[223, 226, 228, ..., 229, 229, 229],\n",
              "        [223, 226, 227, ..., 229, 229, 229],\n",
              "        [223, 225, 227, ..., 229, 229, 229],\n",
              "        ...,\n",
              "        [206, 204, 203, ..., 206, 207, 207],\n",
              "        [204, 204, 202, ..., 205, 206, 206],\n",
              "        [203, 203, 201, ..., 205, 206, 206]], dtype=uint8)]"
            ]
          },
          "metadata": {
            "tags": []
          },
          "execution_count": 26
        }
      ]
    },
    {
      "cell_type": "code",
      "metadata": {
        "colab": {
          "base_uri": "https://localhost:8080/"
        },
        "id": "stGHktFYmv9_",
        "outputId": "78043a8f-da0c-4736-fac0-0fb870c0ae3f"
      },
      "source": [
        "np.array([train_images[151]])"
      ],
      "execution_count": null,
      "outputs": [
        {
          "output_type": "execute_result",
          "data": {
            "text/plain": [
              "array([[[223, 226, 228, ..., 229, 229, 229],\n",
              "        [223, 226, 227, ..., 229, 229, 229],\n",
              "        [223, 225, 227, ..., 229, 229, 229],\n",
              "        ...,\n",
              "        [206, 204, 203, ..., 206, 207, 207],\n",
              "        [204, 204, 202, ..., 205, 206, 206],\n",
              "        [203, 203, 201, ..., 205, 206, 206]]], dtype=uint8)"
            ]
          },
          "metadata": {
            "tags": []
          },
          "execution_count": 24
        }
      ]
    },
    {
      "cell_type": "code",
      "metadata": {
        "colab": {
          "base_uri": "https://localhost:8080/"
        },
        "id": "IMOzr88ImiCD",
        "outputId": "eb46604a-4cf3-41c5-bcf6-4b4f986e30b2"
      },
      "source": [
        "np.array([train_images[151]])[0]"
      ],
      "execution_count": null,
      "outputs": [
        {
          "output_type": "execute_result",
          "data": {
            "text/plain": [
              "array([[223, 226, 228, ..., 229, 229, 229],\n",
              "       [223, 226, 227, ..., 229, 229, 229],\n",
              "       [223, 225, 227, ..., 229, 229, 229],\n",
              "       ...,\n",
              "       [206, 204, 203, ..., 206, 207, 207],\n",
              "       [204, 204, 202, ..., 205, 206, 206],\n",
              "       [203, 203, 201, ..., 205, 206, 206]], dtype=uint8)"
            ]
          },
          "metadata": {
            "tags": []
          },
          "execution_count": 22
        }
      ]
    },
    {
      "cell_type": "code",
      "metadata": {
        "colab": {
          "base_uri": "https://localhost:8080/"
        },
        "id": "e4LHiaRZmmt9",
        "outputId": "8e826344-b86d-4c04-846f-abbcd2d56dc5"
      },
      "source": [
        "np.array([train_images[151]])[0][0]"
      ],
      "execution_count": null,
      "outputs": [
        {
          "output_type": "execute_result",
          "data": {
            "text/plain": [
              "array([223, 226, 228, 232, 234, 233, 232, 229, 227, 223, 220, 221, 222,\n",
              "       226, 229, 230, 230, 229, 226, 224, 223, 224, 226, 231, 236, 239,\n",
              "       241, 240, 238, 235, 232, 229, 232, 232, 232, 232, 232, 232, 232,\n",
              "       232, 230, 230, 230, 231, 231, 232, 232, 232, 232, 232, 232, 232,\n",
              "       232, 232, 232, 232, 231, 231, 231, 230, 230, 229, 229, 229],\n",
              "      dtype=uint8)"
            ]
          },
          "metadata": {
            "tags": []
          },
          "execution_count": 23
        }
      ]
    },
    {
      "cell_type": "code",
      "metadata": {
        "colab": {
          "base_uri": "https://localhost:8080/"
        },
        "id": "ZSjECgFpXjc1",
        "outputId": "26b001d8-1f5f-4dec-8bb3-f2cae78e1f2a"
      },
      "source": [
        "type(result)"
      ],
      "execution_count": null,
      "outputs": [
        {
          "output_type": "execute_result",
          "data": {
            "text/plain": [
              "numpy.ndarray"
            ]
          },
          "metadata": {
            "tags": []
          },
          "execution_count": 38
        }
      ]
    },
    {
      "cell_type": "code",
      "metadata": {
        "colab": {
          "base_uri": "https://localhost:8080/"
        },
        "id": "_w98fSQrXbKq",
        "outputId": "5eaf121c-b4af-4978-b73d-3d0766676e79"
      },
      "source": [
        "np.array([1,2,3])"
      ],
      "execution_count": null,
      "outputs": [
        {
          "output_type": "execute_result",
          "data": {
            "text/plain": [
              "array([1, 2, 3])"
            ]
          },
          "metadata": {
            "tags": []
          },
          "execution_count": 41
        }
      ]
    },
    {
      "cell_type": "code",
      "metadata": {
        "colab": {
          "base_uri": "https://localhost:8080/"
        },
        "id": "tyYo4I1KXbNy",
        "outputId": "13ca93d3-2d86-4639-942f-a6f35c4b8885"
      },
      "source": [
        "type(np.array([1,2,3]))"
      ],
      "execution_count": null,
      "outputs": [
        {
          "output_type": "execute_result",
          "data": {
            "text/plain": [
              "numpy.ndarray"
            ]
          },
          "metadata": {
            "tags": []
          },
          "execution_count": 42
        }
      ]
    },
    {
      "cell_type": "code",
      "metadata": {
        "colab": {
          "base_uri": "https://localhost:8080/"
        },
        "id": "psfUDkJQYIJI",
        "outputId": "8f4fabea-59fb-48c5-91ac-02002896cc7a"
      },
      "source": [
        "print(np.array([0,1,2,3,4,5,6]))"
      ],
      "execution_count": null,
      "outputs": [
        {
          "output_type": "stream",
          "text": [
            "[1 2 3]\n"
          ],
          "name": "stdout"
        }
      ]
    },
    {
      "cell_type": "code",
      "metadata": {
        "colab": {
          "base_uri": "https://localhost:8080/"
        },
        "id": "lbRP9_meYUMQ",
        "outputId": "4fd59f3a-713d-4bb5-c913-c6520141c868"
      },
      "source": [
        "np.array([0.0, 0.1, 0.2, 0.3, 0.4, 0.5, 0.6])"
      ],
      "execution_count": null,
      "outputs": [
        {
          "output_type": "execute_result",
          "data": {
            "text/plain": [
              "array([0. , 0.1, 0.2, 0.3, 0.4, 0.5, 0.6])"
            ]
          },
          "metadata": {
            "tags": []
          },
          "execution_count": 46
        }
      ]
    },
    {
      "cell_type": "code",
      "metadata": {
        "id": "ggsLNabVei_I"
      },
      "source": [
        "visual = np.array([ np.asarray(imageio.imread(path))[:,:,0] for path in list_paths_train_signs])"
      ],
      "execution_count": null,
      "outputs": []
    },
    {
      "cell_type": "code",
      "metadata": {
        "id": "ohQHnBYn6Ntt",
        "colab": {
          "base_uri": "https://localhost:8080/",
          "height": 285
        },
        "outputId": "8db11a7f-61c1-4dac-80be-1d61b81b27c3"
      },
      "source": [
        "plt.imshow(visual[151])"
      ],
      "execution_count": null,
      "outputs": [
        {
          "output_type": "execute_result",
          "data": {
            "text/plain": [
              "<matplotlib.image.AxesImage at 0x7f2f2d090b00>"
            ]
          },
          "metadata": {
            "tags": []
          },
          "execution_count": 213
        },
        {
          "output_type": "display_data",
          "data": {
            "image/png": "[encoded data removed]",
            "text/plain": [
              "<Figure size 432x288 with 1 Axes>"
            ]
          },
          "metadata": {
            "tags": [],
            "needs_background": "light"
          }
        }
      ]
    },
    {
      "cell_type": "code",
      "metadata": {
        "id": "j9XjBvU67DcI"
      },
      "source": [
        ""
      ],
      "execution_count": null,
      "outputs": []
    },
    {
      "cell_type": "code",
      "metadata": {
        "id": "SJfRtKiPtFlt"
      },
      "source": [
        "file = '/content/drive/MyDrive/Colab Notebooks/64x64_SIGNS/test_signs/0_IMG_5942.jpg'"
      ],
      "execution_count": null,
      "outputs": []
    },
    {
      "cell_type": "code",
      "metadata": {
        "id": "Sidfblvds89i"
      },
      "source": [
        "image = np.asarray(imageio.imread(file))"
      ],
      "execution_count": null,
      "outputs": []
    },
    {
      "cell_type": "code",
      "metadata": {
        "colab": {
          "base_uri": "https://localhost:8080/",
          "height": 285
        },
        "id": "OVbhJdMzs9Al",
        "outputId": "ed526649-0359-4594-bde5-40d88d0cc079"
      },
      "source": [
        "plt.imshow(image)"
      ],
      "execution_count": null,
      "outputs": [
        {
          "output_type": "execute_result",
          "data": {
            "text/plain": [
              "<matplotlib.image.AxesImage at 0x7f50d05a3f98>"
            ]
          },
          "metadata": {
            "tags": []
          },
          "execution_count": 76
        },
        {
          "output_type": "display_data",
          "data": {
            "image/png": "[encoded data removed]",
            "text/plain": [
              "<Figure size 432x288 with 1 Axes>"
            ]
          },
          "metadata": {
            "tags": [],
            "needs_background": "light"
          }
        }
      ]
    },
    {
      "cell_type": "code",
      "metadata": {
        "id": "lz4P1IH7s9Dj"
      },
      "source": [
        "def import_and_predict(imagenn, model):\r\n",
        "    \r\n",
        "        #size = (64,64)    \r\n",
        "        t_image = np.array([imagenn[0,:,:]])\r\n",
        "        j_image = t_image.reshape(t_image.shape[0], t_image.shape[1], t_image.shape[2], 1)\r\n",
        "        #image = np.asarray(image)\r\n",
        "        #image = (image.astype(np.float32) / 255.0)\r\n",
        "\r\n",
        "        #img_reshape = image#[np.newaxis,...]\r\n",
        "\r\n",
        "        prediction = model.predict(j_image)\r\n",
        "        #prediction=np.array([0.8, 0.1, 0.2, 0.3, 0.4, 0.5, 0.6])\r\n",
        "        return prediction [0]"
      ],
      "execution_count": null,
      "outputs": []
    },
    {
      "cell_type": "code",
      "metadata": {
        "colab": {
          "base_uri": "https://localhost:8080/",
          "height": 374
        },
        "id": "Re5fvpU5s9Fp",
        "outputId": "ff02607c-fc5e-4677-a329-8644724bac2b"
      },
      "source": [
        "import_and_predict(image, model)"
      ],
      "execution_count": null,
      "outputs": [
        {
          "output_type": "error",
          "ename": "InvalidArgumentError",
          "evalue": "ignored",
          "traceback": [
            "\u001b[0;31m---------------------------------------------------------------------------\u001b[0m",
            "\u001b[0;31mInvalidArgumentError\u001b[0m                      Traceback (most recent call last)",
            "\u001b[0;32m<ipython-input-81-c6ba63fafbfc>\u001b[0m in \u001b[0;36m<module>\u001b[0;34m()\u001b[0m\n\u001b[0;32m----> 1\u001b[0;31m \u001b[0mimport_and_predict\u001b[0m\u001b[0;34m(\u001b[0m\u001b[0mimage\u001b[0m\u001b[0;34m,\u001b[0m \u001b[0mmodel\u001b[0m\u001b[0;34m)\u001b[0m\u001b[0;34m\u001b[0m\u001b[0;34m\u001b[0m\u001b[0m\n\u001b[0m",
            "\u001b[0;32m<ipython-input-80-415bf21ff2e6>\u001b[0m in \u001b[0;36mimport_and_predict\u001b[0;34m(imagenn, model)\u001b[0m\n\u001b[1;32m      9\u001b[0m         \u001b[0;31m#img_reshape = image#[np.newaxis,...]\u001b[0m\u001b[0;34m\u001b[0m\u001b[0;34m\u001b[0m\u001b[0;34m\u001b[0m\u001b[0m\n\u001b[1;32m     10\u001b[0m \u001b[0;34m\u001b[0m\u001b[0m\n\u001b[0;32m---> 11\u001b[0;31m         \u001b[0mprediction\u001b[0m \u001b[0;34m=\u001b[0m \u001b[0mmodel\u001b[0m\u001b[0;34m.\u001b[0m\u001b[0mpredict\u001b[0m\u001b[0;34m(\u001b[0m\u001b[0mt_image\u001b[0m\u001b[0;34m)\u001b[0m\u001b[0;34m\u001b[0m\u001b[0;34m\u001b[0m\u001b[0m\n\u001b[0m\u001b[1;32m     12\u001b[0m         \u001b[0;31m#prediction=np.array([0.8, 0.1, 0.2, 0.3, 0.4, 0.5, 0.6])\u001b[0m\u001b[0;34m\u001b[0m\u001b[0;34m\u001b[0m\u001b[0;34m\u001b[0m\u001b[0m\n\u001b[1;32m     13\u001b[0m         \u001b[0;32mreturn\u001b[0m \u001b[0mprediction\u001b[0m \u001b[0;34m[\u001b[0m\u001b[0;36m0\u001b[0m\u001b[0;34m]\u001b[0m\u001b[0;34m\u001b[0m\u001b[0;34m\u001b[0m\u001b[0m\n",
            "\u001b[0;32m/usr/local/lib/python3.6/dist-packages/tensorflow/python/keras/engine/training.py\u001b[0m in \u001b[0;36mpredict\u001b[0;34m(self, x, batch_size, verbose, steps, callbacks, max_queue_size, workers, use_multiprocessing)\u001b[0m\n\u001b[1;32m   1627\u001b[0m           \u001b[0;32mfor\u001b[0m \u001b[0mstep\u001b[0m \u001b[0;32min\u001b[0m \u001b[0mdata_handler\u001b[0m\u001b[0;34m.\u001b[0m\u001b[0msteps\u001b[0m\u001b[0;34m(\u001b[0m\u001b[0;34m)\u001b[0m\u001b[0;34m:\u001b[0m\u001b[0;34m\u001b[0m\u001b[0;34m\u001b[0m\u001b[0m\n\u001b[1;32m   1628\u001b[0m             \u001b[0mcallbacks\u001b[0m\u001b[0;34m.\u001b[0m\u001b[0mon_predict_batch_begin\u001b[0m\u001b[0;34m(\u001b[0m\u001b[0mstep\u001b[0m\u001b[0;34m)\u001b[0m\u001b[0;34m\u001b[0m\u001b[0;34m\u001b[0m\u001b[0m\n\u001b[0;32m-> 1629\u001b[0;31m             \u001b[0mtmp_batch_outputs\u001b[0m \u001b[0;34m=\u001b[0m \u001b[0mself\u001b[0m\u001b[0;34m.\u001b[0m\u001b[0mpredict_function\u001b[0m\u001b[0;34m(\u001b[0m\u001b[0miterator\u001b[0m\u001b[0;34m)\u001b[0m\u001b[0;34m\u001b[0m\u001b[0;34m\u001b[0m\u001b[0m\n\u001b[0m\u001b[1;32m   1630\u001b[0m             \u001b[0;32mif\u001b[0m \u001b[0mdata_handler\u001b[0m\u001b[0;34m.\u001b[0m\u001b[0mshould_sync\u001b[0m\u001b[0;34m:\u001b[0m\u001b[0;34m\u001b[0m\u001b[0;34m\u001b[0m\u001b[0m\n\u001b[1;32m   1631\u001b[0m               \u001b[0mcontext\u001b[0m\u001b[0;34m.\u001b[0m\u001b[0masync_wait\u001b[0m\u001b[0;34m(\u001b[0m\u001b[0;34m)\u001b[0m\u001b[0;34m\u001b[0m\u001b[0;34m\u001b[0m\u001b[0m\n",
            "\u001b[0;32m/usr/local/lib/python3.6/dist-packages/tensorflow/python/eager/def_function.py\u001b[0m in \u001b[0;36m__call__\u001b[0;34m(self, *args, **kwds)\u001b[0m\n\u001b[1;32m    826\u001b[0m     \u001b[0mtracing_count\u001b[0m \u001b[0;34m=\u001b[0m \u001b[0mself\u001b[0m\u001b[0;34m.\u001b[0m\u001b[0mexperimental_get_tracing_count\u001b[0m\u001b[0;34m(\u001b[0m\u001b[0;34m)\u001b[0m\u001b[0;34m\u001b[0m\u001b[0;34m\u001b[0m\u001b[0m\n\u001b[1;32m    827\u001b[0m     \u001b[0;32mwith\u001b[0m \u001b[0mtrace\u001b[0m\u001b[0;34m.\u001b[0m\u001b[0mTrace\u001b[0m\u001b[0;34m(\u001b[0m\u001b[0mself\u001b[0m\u001b[0;34m.\u001b[0m\u001b[0m_name\u001b[0m\u001b[0;34m)\u001b[0m \u001b[0;32mas\u001b[0m \u001b[0mtm\u001b[0m\u001b[0;34m:\u001b[0m\u001b[0;34m\u001b[0m\u001b[0;34m\u001b[0m\u001b[0m\n\u001b[0;32m--> 828\u001b[0;31m       \u001b[0mresult\u001b[0m \u001b[0;34m=\u001b[0m \u001b[0mself\u001b[0m\u001b[0;34m.\u001b[0m\u001b[0m_call\u001b[0m\u001b[0;34m(\u001b[0m\u001b[0;34m*\u001b[0m\u001b[0margs\u001b[0m\u001b[0;34m,\u001b[0m \u001b[0;34m**\u001b[0m\u001b[0mkwds\u001b[0m\u001b[0;34m)\u001b[0m\u001b[0;34m\u001b[0m\u001b[0;34m\u001b[0m\u001b[0m\n\u001b[0m\u001b[1;32m    829\u001b[0m       \u001b[0mcompiler\u001b[0m \u001b[0;34m=\u001b[0m \u001b[0;34m\"xla\"\u001b[0m \u001b[0;32mif\u001b[0m \u001b[0mself\u001b[0m\u001b[0;34m.\u001b[0m\u001b[0m_experimental_compile\u001b[0m \u001b[0;32melse\u001b[0m \u001b[0;34m\"nonXla\"\u001b[0m\u001b[0;34m\u001b[0m\u001b[0;34m\u001b[0m\u001b[0m\n\u001b[1;32m    830\u001b[0m       \u001b[0mnew_tracing_count\u001b[0m \u001b[0;34m=\u001b[0m \u001b[0mself\u001b[0m\u001b[0;34m.\u001b[0m\u001b[0mexperimental_get_tracing_count\u001b[0m\u001b[0;34m(\u001b[0m\u001b[0;34m)\u001b[0m\u001b[0;34m\u001b[0m\u001b[0;34m\u001b[0m\u001b[0m\n",
            "\u001b[0;32m/usr/local/lib/python3.6/dist-packages/tensorflow/python/eager/def_function.py\u001b[0m in \u001b[0;36m_call\u001b[0;34m(self, *args, **kwds)\u001b[0m\n\u001b[1;32m    860\u001b[0m       \u001b[0;31m# In this case we have not created variables on the first call. So we can\u001b[0m\u001b[0;34m\u001b[0m\u001b[0;34m\u001b[0m\u001b[0;34m\u001b[0m\u001b[0m\n\u001b[1;32m    861\u001b[0m       \u001b[0;31m# run the first trace but we should fail if variables are created.\u001b[0m\u001b[0;34m\u001b[0m\u001b[0;34m\u001b[0m\u001b[0;34m\u001b[0m\u001b[0m\n\u001b[0;32m--> 862\u001b[0;31m       \u001b[0mresults\u001b[0m \u001b[0;34m=\u001b[0m \u001b[0mself\u001b[0m\u001b[0;34m.\u001b[0m\u001b[0m_stateful_fn\u001b[0m\u001b[0;34m(\u001b[0m\u001b[0;34m*\u001b[0m\u001b[0margs\u001b[0m\u001b[0;34m,\u001b[0m \u001b[0;34m**\u001b[0m\u001b[0mkwds\u001b[0m\u001b[0;34m)\u001b[0m\u001b[0;34m\u001b[0m\u001b[0;34m\u001b[0m\u001b[0m\n\u001b[0m\u001b[1;32m    863\u001b[0m       \u001b[0;32mif\u001b[0m \u001b[0mself\u001b[0m\u001b[0;34m.\u001b[0m\u001b[0m_created_variables\u001b[0m\u001b[0;34m:\u001b[0m\u001b[0;34m\u001b[0m\u001b[0;34m\u001b[0m\u001b[0m\n\u001b[1;32m    864\u001b[0m         raise ValueError(\"Creating variables on a non-first call to a function\"\n",
            "\u001b[0;32m/usr/local/lib/python3.6/dist-packages/tensorflow/python/eager/function.py\u001b[0m in \u001b[0;36m__call__\u001b[0;34m(self, *args, **kwargs)\u001b[0m\n\u001b[1;32m   2941\u001b[0m        filtered_flat_args) = self._maybe_define_function(args, kwargs)\n\u001b[1;32m   2942\u001b[0m     return graph_function._call_flat(\n\u001b[0;32m-> 2943\u001b[0;31m         filtered_flat_args, captured_inputs=graph_function.captured_inputs)  # pylint: disable=protected-access\n\u001b[0m\u001b[1;32m   2944\u001b[0m \u001b[0;34m\u001b[0m\u001b[0m\n\u001b[1;32m   2945\u001b[0m   \u001b[0;34m@\u001b[0m\u001b[0mproperty\u001b[0m\u001b[0;34m\u001b[0m\u001b[0;34m\u001b[0m\u001b[0m\n",
            "\u001b[0;32m/usr/local/lib/python3.6/dist-packages/tensorflow/python/eager/function.py\u001b[0m in \u001b[0;36m_call_flat\u001b[0;34m(self, args, captured_inputs, cancellation_manager)\u001b[0m\n\u001b[1;32m   1917\u001b[0m       \u001b[0;31m# No tape is watching; skip to running the function.\u001b[0m\u001b[0;34m\u001b[0m\u001b[0;34m\u001b[0m\u001b[0;34m\u001b[0m\u001b[0m\n\u001b[1;32m   1918\u001b[0m       return self._build_call_outputs(self._inference_function.call(\n\u001b[0;32m-> 1919\u001b[0;31m           ctx, args, cancellation_manager=cancellation_manager))\n\u001b[0m\u001b[1;32m   1920\u001b[0m     forward_backward = self._select_forward_and_backward_functions(\n\u001b[1;32m   1921\u001b[0m         \u001b[0margs\u001b[0m\u001b[0;34m,\u001b[0m\u001b[0;34m\u001b[0m\u001b[0;34m\u001b[0m\u001b[0m\n",
            "\u001b[0;32m/usr/local/lib/python3.6/dist-packages/tensorflow/python/eager/function.py\u001b[0m in \u001b[0;36mcall\u001b[0;34m(self, ctx, args, cancellation_manager)\u001b[0m\n\u001b[1;32m    558\u001b[0m               \u001b[0minputs\u001b[0m\u001b[0;34m=\u001b[0m\u001b[0margs\u001b[0m\u001b[0;34m,\u001b[0m\u001b[0;34m\u001b[0m\u001b[0;34m\u001b[0m\u001b[0m\n\u001b[1;32m    559\u001b[0m               \u001b[0mattrs\u001b[0m\u001b[0;34m=\u001b[0m\u001b[0mattrs\u001b[0m\u001b[0;34m,\u001b[0m\u001b[0;34m\u001b[0m\u001b[0;34m\u001b[0m\u001b[0m\n\u001b[0;32m--> 560\u001b[0;31m               ctx=ctx)\n\u001b[0m\u001b[1;32m    561\u001b[0m         \u001b[0;32melse\u001b[0m\u001b[0;34m:\u001b[0m\u001b[0;34m\u001b[0m\u001b[0;34m\u001b[0m\u001b[0m\n\u001b[1;32m    562\u001b[0m           outputs = execute.execute_with_cancellation(\n",
            "\u001b[0;32m/usr/local/lib/python3.6/dist-packages/tensorflow/python/eager/execute.py\u001b[0m in \u001b[0;36mquick_execute\u001b[0;34m(op_name, num_outputs, inputs, attrs, ctx, name)\u001b[0m\n\u001b[1;32m     58\u001b[0m     \u001b[0mctx\u001b[0m\u001b[0;34m.\u001b[0m\u001b[0mensure_initialized\u001b[0m\u001b[0;34m(\u001b[0m\u001b[0;34m)\u001b[0m\u001b[0;34m\u001b[0m\u001b[0;34m\u001b[0m\u001b[0m\n\u001b[1;32m     59\u001b[0m     tensors = pywrap_tfe.TFE_Py_Execute(ctx._handle, device_name, op_name,\n\u001b[0;32m---> 60\u001b[0;31m                                         inputs, attrs, num_outputs)\n\u001b[0m\u001b[1;32m     61\u001b[0m   \u001b[0;32mexcept\u001b[0m \u001b[0mcore\u001b[0m\u001b[0;34m.\u001b[0m\u001b[0m_NotOkStatusException\u001b[0m \u001b[0;32mas\u001b[0m \u001b[0me\u001b[0m\u001b[0;34m:\u001b[0m\u001b[0;34m\u001b[0m\u001b[0;34m\u001b[0m\u001b[0m\n\u001b[1;32m     62\u001b[0m     \u001b[0;32mif\u001b[0m \u001b[0mname\u001b[0m \u001b[0;32mis\u001b[0m \u001b[0;32mnot\u001b[0m \u001b[0;32mNone\u001b[0m\u001b[0;34m:\u001b[0m\u001b[0;34m\u001b[0m\u001b[0;34m\u001b[0m\u001b[0m\n",
            "\u001b[0;31mInvalidArgumentError\u001b[0m:  Input to reshape is a tensor with 192 values, but the requested shape requires a multiple of 4096\n\t [[{{node sequential_1/flatten_1/ArithmeticOptimizer/ReorderCastLikeAndValuePreserving_uint8_Reshape}}]] [Op:__inference_predict_function_7812]\n\nFunction call stack:\npredict_function\n"
          ]
        }
      ]
    },
    {
      "cell_type": "code",
      "metadata": {
        "colab": {
          "base_uri": "https://localhost:8080/"
        },
        "id": "n0OKh_pos9IX",
        "outputId": "c964dc9a-3c8e-46cd-a9f9-eec54ec982ed"
      },
      "source": [
        "model"
      ],
      "execution_count": null,
      "outputs": [
        {
          "output_type": "execute_result",
          "data": {
            "text/plain": [
              "<tensorflow.python.keras.engine.sequential.Sequential at 0x7f513001b2b0>"
            ]
          },
          "metadata": {
            "tags": []
          },
          "execution_count": 78
        }
      ]
    },
    {
      "cell_type": "code",
      "metadata": {
        "id": "_Ydyy1Vgs9Kx"
      },
      "source": [
        ""
      ],
      "execution_count": null,
      "outputs": []
    }
  ]
}