{
  "nbformat": 4,
  "nbformat_minor": 0,
  "metadata": {
    "colab": {
      "name": "Adivino_tu_mano_(Notebook_Colab).ipynb",
      "provenance": [],
      "collapsed_sections": [],
      "toc_visible": true,
      "include_colab_link": true
    },
    "kernelspec": {
      "name": "python3",
      "display_name": "Python 3"
    },
    "accelerator": "GPU"
  },
  "cells": [
    {
      "cell_type": "markdown",
      "metadata": {
        "id": "view-in-github",
        "colab_type": "text"
      },
      "source": [
        "<a href=\"https://colab.research.google.com/github/alexandergribenchenko/Adivino_tu_mano/blob/main/Adivino_tu_mano_(Notebook_Colab).ipynb\" target=\"_parent\"><img src=\"https://colab.research.google.com/assets/colab-badge.svg\" alt=\"Open In Colab\"/></a>"
      ]
    },
    {
      "cell_type": "markdown",
      "metadata": {
        "id": "ABnUE_KZekcu"
      },
      "source": [
        "#¡Adivino tu mano!"
      ]
    },
    {
      "cell_type": "markdown",
      "metadata": {
        "id": "TAzXDJscekK9"
      },
      "source": [
        "En este notebook encontrarás los insumos necesarios para crear una pequeña aplicación basada en Redes Neuronales que predice, a partir de una imagen jpg o png, el número que tratas de hacer con el gesto de tu mano.\r\n",
        "\r\n",
        "Puedes ver en el todo el preprocesamiento que debimos hacer sobre las imagenes, la etapa de desarrollo del modelo y por último las funciones que serán necesarias como parte del script que emplearemos para desplegar nuestra aplicación en Streamlit."
      ]
    },
    {
      "cell_type": "markdown",
      "metadata": {
        "id": "khfKCX3xC4Hs"
      },
      "source": [
        "# 1. Conexión al repositorio donde tenemos nuestras imagenes"
      ]
    },
    {
      "cell_type": "code",
      "metadata": {
        "colab": {
          "base_uri": "https://localhost:8080/"
        },
        "id": "Jfezt5cP157D",
        "outputId": "78f6d9ef-eacc-40f9-aaa8-546bed13e863"
      },
      "source": [
        "# Generamos una conexión a nuestra carpeta de Drive que nos permita tener acceso \n",
        "# a los carpetas donde tenemos nuestras imagenes de entrenamiento, validación y test\n",
        "from google.colab import drive\n",
        "drive.mount('/content/drive')"
      ],
      "execution_count": null,
      "outputs": [
        {
          "output_type": "stream",
          "text": [
            "Mounted at /content/drive\n"
          ],
          "name": "stdout"
        }
      ]
    },
    {
      "cell_type": "markdown",
      "metadata": {
        "id": "t8s542JtDhfh"
      },
      "source": [
        "# 2. Librerías necesarias para el desarrollo del proyecto"
      ]
    },
    {
      "cell_type": "code",
      "metadata": {
        "id": "7zIP7OUU7_AM"
      },
      "source": [
        "# Importamos las librerías necesarias para el proyecto\n",
        "\n",
        "# Librerías necesarias para el procesamiento numérico y de graficación\n",
        "import numpy as np\n",
        "import matplotlib.pyplot as plt\n",
        "\n",
        "# Librerías necesarias para implementar el modelo basado en redes neuronales\n",
        "import tensorflow as tf\n",
        "from tensorflow import keras\n",
        "\n",
        "# Librería necesaria para importar y procesar imagenes\n",
        "from PIL import Image, ImageOps\n",
        "\n",
        "# Librería necesaria para obtener los nombres y paths de todas nuestras imagenes\n",
        "import os "
      ],
      "execution_count": null,
      "outputs": []
    },
    {
      "cell_type": "markdown",
      "metadata": {
        "id": "w1MitnPbDKqP"
      },
      "source": [
        "# 3. Ejemplo de como se importa y preprocesa una única imagen"
      ]
    },
    {
      "cell_type": "code",
      "metadata": {
        "colab": {
          "base_uri": "https://localhost:8080/",
          "height": 336
        },
        "id": "VxUEl4oe7EiS",
        "outputId": "ab859578-bfa5-45e9-b594-add9fb16860a"
      },
      "source": [
        "# Ejemplo de como podemos importar y visualizar una de las imagenes de nuestro set de entrenamiento\r\n",
        "\r\n",
        "# Importamos la imagen:\r\n",
        "image = Image.open('/content/drive/MyDrive/Colab Notebooks/64x64_SIGNS/test_signs/0_IMG_5942.jpg')\r\n",
        "\r\n",
        "# Visualizamos el tipo de objeto que es:\r\n",
        "print(type(image))\r\n",
        "\r\n",
        "# Hacemos una conversión a tipo array de numpy:\r\n",
        "image_np = np.asarray(image)\r\n",
        "print(type(image_np))\r\n",
        "\r\n",
        "# Visualizamos las dimensiones del nuevo arreglo:\r\n",
        "print(image_np.shape)\r\n",
        "\r\n",
        "# Visualizamos las imagen importada:\r\n",
        "plt.imshow(image_np)"
      ],
      "execution_count": null,
      "outputs": [
        {
          "output_type": "stream",
          "text": [
            "<class 'PIL.JpegImagePlugin.JpegImageFile'>\n",
            "<class 'numpy.ndarray'>\n",
            "(64, 64, 3)\n"
          ],
          "name": "stdout"
        },
        {
          "output_type": "execute_result",
          "data": {
            "text/plain": [
              "<matplotlib.image.AxesImage at 0x7f8ab847d390>"
            ]
          },
          "metadata": {
            "tags": []
          },
          "execution_count": 19
        },
        {
          "output_type": "display_data",
          "data": {
            "image/png": "[encoded data removed]",
            "text/plain": [
              "<Figure size 432x288 with 1 Axes>"
            ]
          },
          "metadata": {
            "tags": [],
            "needs_background": "light"
          }
        }
      ]
    },
    {
      "cell_type": "code",
      "metadata": {
        "colab": {
          "base_uri": "https://localhost:8080/",
          "height": 302
        },
        "id": "1AqIvyAJ8h7C",
        "outputId": "40cc21ae-cf38-4397-9b9b-ffed1cb0124e"
      },
      "source": [
        "# Dado que resultara más liviano y útil para la red neuronal, la clasificación la \r\n",
        "# haremos unicamante empleando el primer canal del RGB de la imagen\r\n",
        "\r\n",
        "# Chequeamos la nueva dimensión del array \r\n",
        "print(image_np[:,:,0].shape)\r\n",
        "\r\n",
        "# Visualizamos las imagen tras la trasformación:\r\n",
        "plt.imshow(image_np[:,:,0])"
      ],
      "execution_count": null,
      "outputs": [
        {
          "output_type": "stream",
          "text": [
            "(64, 64)\n"
          ],
          "name": "stdout"
        },
        {
          "output_type": "execute_result",
          "data": {
            "text/plain": [
              "<matplotlib.image.AxesImage at 0x7f8ab844ceb8>"
            ]
          },
          "metadata": {
            "tags": []
          },
          "execution_count": 20
        },
        {
          "output_type": "display_data",
          "data": {
            "image/png": "[encoded data removed]",
            "text/plain": [
              "<Figure size 432x288 with 1 Axes>"
            ]
          },
          "metadata": {
            "tags": [],
            "needs_background": "light"
          }
        }
      ]
    },
    {
      "cell_type": "markdown",
      "metadata": {
        "id": "Qkjj9R2UEFVd"
      },
      "source": [
        "# 4. Obtención de la totalidad de los paths y nombres de nuestras imagenes"
      ]
    },
    {
      "cell_type": "code",
      "metadata": {
        "id": "zbnYiET57PRg"
      },
      "source": [
        "# Definimos una función que nos permita obtener una lista con todos los paths o\r\n",
        "# nombres de las imagenes con las que deseamos trabajar\r\n",
        "# Entradas\r\n",
        "# - dir: ruta del directorio del que deseamos obtener las imagenes\r\n",
        "# - tipo: nos permite obtener o bien obtener los nombre o el paths de todas las imagenes\r\n",
        "#         (las entrasas posibles son respectivamante: 'paths' o 'names )\r\n",
        "# Salida\r\n",
        "# - salida: lista con los nombres o los paths de todas las imagenees en la carpeta dir\r\n",
        "def list_dir(dir, tipo):\r\n",
        "    file_names = os.listdir(dir)\r\n",
        "    if tipo=='names':\r\n",
        "       salida = [file_name for file_name in file_names]\r\n",
        "    elif tipo=='paths': \r\n",
        "      salida = [os.path.abspath(os.path.join(dir,file_name)) for file_name in file_names]\r\n",
        "    return salida"
      ],
      "execution_count": null,
      "outputs": []
    },
    {
      "cell_type": "markdown",
      "metadata": {
        "id": "ddTUSqJRHl8E"
      },
      "source": [
        "##### **---> Lista de paths y nombres del conjunto train**"
      ]
    },
    {
      "cell_type": "code",
      "metadata": {
        "colab": {
          "base_uri": "https://localhost:8080/"
        },
        "id": "-diFWMSfDyDh",
        "outputId": "5a221b0e-ea76-4ada-db21-3eac842cff7f"
      },
      "source": [
        "# Empleamos nuestra función para obtener las listas con los nombres y los path del conjunto de train\r\n",
        "list_names_train_signs = list_dir('/content/drive/MyDrive/Colab Notebooks/64x64_SIGNS/train_signs', 'names')\r\n",
        "list_paths_train_signs = list_dir('/content/drive/MyDrive/Colab Notebooks/64x64_SIGNS/train_signs', 'paths')\r\n",
        "\r\n",
        "# Visualicemos la cantidad total de imagenes de nuestro conjunto de train\r\n",
        "print(len(list_paths_train_signs))\r\n",
        "\r\n",
        "# Visualicemos a manera de ejemplo los primeros 5 elementos de los nombres\r\n",
        "print(list_names_train_signs[:5])\r\n",
        "\r\n",
        "# Visualicemos a manera de ejemplo los primeros 5 elementos de los paths\r\n",
        "list_paths_train_signs[:5]"
      ],
      "execution_count": null,
      "outputs": [
        {
          "output_type": "stream",
          "text": [
            "864\n",
            "['2_IMG_4702.jpg', '1_IMG_4391.jpg', '1_IMG_4561.jpg', '1_IMG_4448.jpg', '0_IMG_5932.jpg']\n"
          ],
          "name": "stdout"
        },
        {
          "output_type": "execute_result",
          "data": {
            "text/plain": [
              "['/content/drive/MyDrive/Colab Notebooks/64x64_SIGNS/train_signs/2_IMG_4702.jpg',\n",
              " '/content/drive/MyDrive/Colab Notebooks/64x64_SIGNS/train_signs/1_IMG_4391.jpg',\n",
              " '/content/drive/MyDrive/Colab Notebooks/64x64_SIGNS/train_signs/1_IMG_4561.jpg',\n",
              " '/content/drive/MyDrive/Colab Notebooks/64x64_SIGNS/train_signs/1_IMG_4448.jpg',\n",
              " '/content/drive/MyDrive/Colab Notebooks/64x64_SIGNS/train_signs/0_IMG_5932.jpg']"
            ]
          },
          "metadata": {
            "tags": []
          },
          "execution_count": 22
        }
      ]
    },
    {
      "cell_type": "markdown",
      "metadata": {
        "id": "VHBi5JCjIMZs"
      },
      "source": [
        "##### **---> Lista de paths y nombres del conjunto de test**: (nota: denominamos test al conjunto que se diferencia de train (que puede ser val o test y que puede elegirse sin que deba modificarse el código en adelante))"
      ]
    },
    {
      "cell_type": "code",
      "metadata": {
        "colab": {
          "base_uri": "https://localhost:8080/"
        },
        "id": "pUwOurZnIdPQ",
        "outputId": "31565c91-b126-473c-d68b-e313cc10f1f1"
      },
      "source": [
        "# Empleamos nuestra función para obtener las listas con los nombres y los path del conjunto de test\r\n",
        "list_names_test_signs = list_dir('/content/drive/MyDrive/Colab Notebooks/64x64_SIGNS/test_signs', 'names')\r\n",
        "list_paths_test_signs = list_dir('/content/drive/MyDrive/Colab Notebooks/64x64_SIGNS/test_signs', 'paths')\r\n",
        "\r\n",
        "# Visualicemos la cantidad total de imagenes de nuestro conjunto de test\r\n",
        "print(len(list_paths_test_signs))\r\n",
        "\r\n",
        "# Visualicemos a manera de ejemplo los primeros 5 elementos de los nombres\r\n",
        "print(list_names_test_signs[:5])\r\n",
        "\r\n",
        "# Visualicemos a manera de ejemplo los primeros 5 elementos de los paths\r\n",
        "list_paths_test_signs[:5]"
      ],
      "execution_count": null,
      "outputs": [
        {
          "output_type": "stream",
          "text": [
            "120\n",
            "['4_IMG_5425.jpg', '0_IMG_5969.jpg', '3_IMG_6110.jpg', '5_IMG_5621.jpg', '1_IMG_4523.jpg']\n"
          ],
          "name": "stdout"
        },
        {
          "output_type": "execute_result",
          "data": {
            "text/plain": [
              "['/content/drive/MyDrive/Colab Notebooks/64x64_SIGNS/test_signs/4_IMG_5425.jpg',\n",
              " '/content/drive/MyDrive/Colab Notebooks/64x64_SIGNS/test_signs/0_IMG_5969.jpg',\n",
              " '/content/drive/MyDrive/Colab Notebooks/64x64_SIGNS/test_signs/3_IMG_6110.jpg',\n",
              " '/content/drive/MyDrive/Colab Notebooks/64x64_SIGNS/test_signs/5_IMG_5621.jpg',\n",
              " '/content/drive/MyDrive/Colab Notebooks/64x64_SIGNS/test_signs/1_IMG_4523.jpg']"
            ]
          },
          "metadata": {
            "tags": []
          },
          "execution_count": 23
        }
      ]
    },
    {
      "cell_type": "markdown",
      "metadata": {
        "id": "A1VQ8ztVJGzb"
      },
      "source": [
        "# 5. Obtención de los arrays con los labels para el entrenamiento y evaluación"
      ]
    },
    {
      "cell_type": "code",
      "metadata": {
        "id": "q4N4pcikFdLa",
        "colab": {
          "base_uri": "https://localhost:8080/",
          "height": 285
        },
        "outputId": "83704c07-83e1-48ab-beca-93dc86eff084"
      },
      "source": [
        "# Observamos que los nombres de las imagenes contienen siempre como primer elemento\r\n",
        "# el label de la imagen (el numero 'verdadero' al que se asocia la imagen que se pretendio representar con la mano)\r\n",
        "\r\n",
        "# A manera de ejemplo vemos que la imagen que lleva por nombre 0_IMG_5942.jpg, trato de representar el número 0\r\n",
        "image_np_r = np.asarray(Image.open('/content/drive/MyDrive/Colab Notebooks/64x64_SIGNS/test_signs/0_IMG_5942.jpg'))[:,:,0]\r\n",
        "\r\n",
        "# Visualizamos las imagen importada:\r\n",
        "plt.imshow(image_np_r)"
      ],
      "execution_count": null,
      "outputs": [
        {
          "output_type": "execute_result",
          "data": {
            "text/plain": [
              "<matplotlib.image.AxesImage at 0x7f8ab8399668>"
            ]
          },
          "metadata": {
            "tags": []
          },
          "execution_count": 25
        },
        {
          "output_type": "display_data",
          "data": {
            "image/png": "[encoded data removed]",
            "text/plain": [
              "<Figure size 432x288 with 1 Axes>"
            ]
          },
          "metadata": {
            "tags": [],
            "needs_background": "light"
          }
        }
      ]
    },
    {
      "cell_type": "markdown",
      "metadata": {
        "id": "FGHVpod2L-_0"
      },
      "source": [
        "##### **---> Array con los labels del conjunto de train**"
      ]
    },
    {
      "cell_type": "code",
      "metadata": {
        "colab": {
          "base_uri": "https://localhost:8080/"
        },
        "id": "QfxnBTy8CzfN",
        "outputId": "3d49e402-a759-43dc-96e2-18ba879fabb7"
      },
      "source": [
        "# Empleando el primer digito del nombre y a partir de un list comprenhention \r\n",
        "# obtenemnos la totalidad de los labels para el conjunto de train\r\n",
        "# (Este arreglo ya tiene las dimensiones necesarias para ser empleado como label en keras)\r\n",
        "train_labels = np.asarray([int(name[0]) for name  in list_names_train_signs])\r\n",
        "\r\n",
        "# Imprimimos para corroborar el tamaño del arreglo para el conjunto de train\r\n",
        "print(train_labels.shape)\r\n",
        "\r\n",
        "# Visualizamos a manera de ejemplo los 20 primeros registros\r\n",
        "train_labels[:20]"
      ],
      "execution_count": null,
      "outputs": [
        {
          "output_type": "stream",
          "text": [
            "(864,)\n"
          ],
          "name": "stdout"
        },
        {
          "output_type": "execute_result",
          "data": {
            "text/plain": [
              "array([2, 1, 1, 1, 0, 3, 2, 2, 4, 3, 1, 1, 5, 4, 4, 1, 5, 1, 2, 3])"
            ]
          },
          "metadata": {
            "tags": []
          },
          "execution_count": 26
        }
      ]
    },
    {
      "cell_type": "markdown",
      "metadata": {
        "id": "DTGEdlD0OOzD"
      },
      "source": [
        "##### **---> Array con los labels del conjunto de test**"
      ]
    },
    {
      "cell_type": "code",
      "metadata": {
        "colab": {
          "base_uri": "https://localhost:8080/"
        },
        "id": "sRC-Tg0tOOzV",
        "outputId": "bdd81be6-8e94-42bc-eb6d-af9d183b7fea"
      },
      "source": [
        "# Empleando el primer digito del nombre y a partir de un list comprenhention \r\n",
        "# obtenemnos la totalidad de los labels para el conjunto de test\r\n",
        "# (Este arreglo ya tiene las dimensiones necesarias para ser empleado como label en keras)\r\n",
        "test_labels = np.asarray([int(name[0]) for name  in list_names_test_signs])\r\n",
        "\r\n",
        "# Imprimimos para corroborar el tamaño del arreglo para el conjunto de test\r\n",
        "print(test_labels.shape)\r\n",
        "\r\n",
        "# Visualizamos a manera de ejemplo los 20 primeros registros\r\n",
        "test_labels[:20]"
      ],
      "execution_count": null,
      "outputs": [
        {
          "output_type": "stream",
          "text": [
            "(120,)\n"
          ],
          "name": "stdout"
        },
        {
          "output_type": "execute_result",
          "data": {
            "text/plain": [
              "array([4, 0, 3, 5, 1, 4, 2, 1, 1, 2, 4, 0, 0, 0, 3, 4, 5, 2, 4, 0])"
            ]
          },
          "metadata": {
            "tags": []
          },
          "execution_count": 27
        }
      ]
    },
    {
      "cell_type": "markdown",
      "metadata": {
        "id": "muU4V2wzR8VQ"
      },
      "source": [
        "# 6. Obtención de los arrays de las imagenes de entrenamiento y evaluación"
      ]
    },
    {
      "cell_type": "markdown",
      "metadata": {
        "id": "XvoHwvpeXWYB"
      },
      "source": [
        "##### **---> Array con las imagenes del conjunto de train**"
      ]
    },
    {
      "cell_type": "code",
      "metadata": {
        "colab": {
          "base_uri": "https://localhost:8080/"
        },
        "id": "awDkTYzQCzh8",
        "outputId": "e0486cb5-6ed8-4baa-c43a-b5b87df3b337"
      },
      "source": [
        "# Empleando el mismo procedimiento del numeral 3 para una única imagen, y haciendo uno de \r\n",
        "# una list comprenhention obtenemos una array con la información de todas las imagenes del conjunto de train\r\n",
        "train_images = np.array([np.asarray(Image.open(path))[:,:,0] for path in list_paths_train_signs])\r\n",
        "\r\n",
        "# Visualizamos inicialmente la forma de dicha matriz (tal como esta no es aceptada por keras)\r\n",
        "print(train_images.shape)\r\n",
        "\r\n",
        "# Generamos un reshape de tal manera que pueda tener la forma que es aceptada por keras\r\n",
        "train_images = train_images.reshape(train_images.shape[0], train_images.shape[1], train_images.shape[2], 1)\r\n",
        "print(train_images.shape)\r\n",
        "\r\n",
        "# Finalmente convertimos la escala de 0 a 255, a una escala normalizada entre 0 y 1 con valores flotantes\r\n",
        "# (Es una recomendación recurrente al trabajar con imagenes y redes neuronales para su clasificación)\r\n",
        "train_images = train_images.astype('float32')/255"
      ],
      "execution_count": null,
      "outputs": [
        {
          "output_type": "stream",
          "text": [
            "(864, 64, 64)\n",
            "(864, 64, 64, 1)\n"
          ],
          "name": "stdout"
        }
      ]
    },
    {
      "cell_type": "markdown",
      "metadata": {
        "id": "8jaCmYIwXiyr"
      },
      "source": [
        "##### **---> Array con los labels del conjunto de test**"
      ]
    },
    {
      "cell_type": "code",
      "metadata": {
        "colab": {
          "base_uri": "https://localhost:8080/"
        },
        "id": "kUm12WZZXmNr",
        "outputId": "7ab822a9-8726-4ecb-ea39-f6f4844b9d1f"
      },
      "source": [
        "# Empleando el mismo procedimiento del numeral 3 para una única imagen, y haciendo uno de \r\n",
        "# una list comprenhention obtenemos una array con la información de todas las imagenes del conjunto de test\r\n",
        "test_images = np.array([ np.asarray(Image.open(path))[:,:,0] for path in list_paths_test_signs])\r\n",
        "\r\n",
        "# Visualizamos inicialmente la forma de dicha matriz (tal como esta no es aceptada por keras)\r\n",
        "print(test_images.shape)\r\n",
        "\r\n",
        "# Generamos un reshape de tal manera que pueda tener la forma que es aceptada por keras\r\n",
        "test_images = test_images.reshape(test_images.shape[0], test_images.shape[1], test_images.shape[2], 1)\r\n",
        "print(test_images.shape)\r\n",
        "\r\n",
        "# Finalmente convertimos la escala de 0 a 255, a una escala normalizada entre 0 y 1 con valores flotantes\r\n",
        "# (Es una recomendación recurrente al trabajar con imagenes y redes neuronales para su clasificación)\r\n",
        "test_images = test_images.astype('float32')/255"
      ],
      "execution_count": null,
      "outputs": [
        {
          "output_type": "stream",
          "text": [
            "(120, 64, 64)\n",
            "(120, 64, 64, 1)\n"
          ],
          "name": "stdout"
        }
      ]
    },
    {
      "cell_type": "markdown",
      "metadata": {
        "id": "hM_SDKpFBpGs"
      },
      "source": [
        "# 7. Modelo básico de clasificación de redes neuronales"
      ]
    },
    {
      "cell_type": "code",
      "metadata": {
        "id": "9pULotR1OPZX",
        "colab": {
          "base_uri": "https://localhost:8080/"
        },
        "outputId": "c3965656-bdba-46d3-cd50-3ca5cb04fbb0"
      },
      "source": [
        "# Entrenemos un primer modelo de red neuronal con 2 capas densas y una capa de salida.\n",
        "# Nuestros posibles numeros van de 0 a 5, por tanto son 6 opciones que son las que debemos\n",
        "# emplear como argumento en la capa de salida. Emplearemos la función de activación softmax\n",
        "# ya que las salidas son unicas y excluyentes entre si y ademas podremos interpretar la \n",
        "# predicción como un valor de probabilidad asociado a cada uno de los 6 valores.\n",
        "model = keras.Sequential([\n",
        "  keras.layers.Flatten(),\n",
        "  keras.layers.Dense(512, activation='relu'),\n",
        "  keras.layers.Dense(256, activation='relu'),\n",
        "  keras.layers.Dense(6, activation='softmax')\n",
        "])\n",
        "\n",
        "model.compile(optimizer='adam',\n",
        "              loss=keras.losses.SparseCategoricalCrossentropy(),\n",
        "              metrics=['accuracy'])\n",
        "\n",
        "model.fit( train_images, train_labels, epochs=70, batch_size=32, verbose=1)"
      ],
      "execution_count": null,
      "outputs": [
        {
          "output_type": "stream",
          "text": [
            "Epoch 1/70\n",
            "27/27 [==============================] - 0s 2ms/step - loss: 4.5776 - accuracy: 0.1404\n",
            "Epoch 2/70\n",
            "27/27 [==============================] - 0s 2ms/step - loss: 1.8585 - accuracy: 0.2233\n",
            "Epoch 3/70\n",
            "27/27 [==============================] - 0s 2ms/step - loss: 1.8018 - accuracy: 0.2340\n",
            "Epoch 4/70\n",
            "27/27 [==============================] - 0s 2ms/step - loss: 1.7566 - accuracy: 0.3078\n",
            "Epoch 5/70\n",
            "27/27 [==============================] - 0s 2ms/step - loss: 1.6878 - accuracy: 0.3173\n",
            "Epoch 6/70\n",
            "27/27 [==============================] - 0s 2ms/step - loss: 1.5879 - accuracy: 0.3528\n",
            "Epoch 7/70\n",
            "27/27 [==============================] - 0s 2ms/step - loss: 1.5143 - accuracy: 0.3647\n",
            "Epoch 8/70\n",
            "27/27 [==============================] - 0s 2ms/step - loss: 1.4933 - accuracy: 0.4017\n",
            "Epoch 9/70\n",
            "27/27 [==============================] - 0s 2ms/step - loss: 1.3992 - accuracy: 0.4236\n",
            "Epoch 10/70\n",
            "27/27 [==============================] - 0s 2ms/step - loss: 1.4306 - accuracy: 0.4522\n",
            "Epoch 11/70\n",
            "27/27 [==============================] - 0s 2ms/step - loss: 1.3534 - accuracy: 0.4875\n",
            "Epoch 12/70\n",
            "27/27 [==============================] - 0s 2ms/step - loss: 1.3627 - accuracy: 0.4531\n",
            "Epoch 13/70\n",
            "27/27 [==============================] - 0s 2ms/step - loss: 1.3201 - accuracy: 0.4919\n",
            "Epoch 14/70\n",
            "27/27 [==============================] - 0s 2ms/step - loss: 1.2869 - accuracy: 0.4952\n",
            "Epoch 15/70\n",
            "27/27 [==============================] - 0s 2ms/step - loss: 1.2496 - accuracy: 0.5402\n",
            "Epoch 16/70\n",
            "27/27 [==============================] - 0s 2ms/step - loss: 1.1912 - accuracy: 0.5213\n",
            "Epoch 17/70\n",
            "27/27 [==============================] - 0s 2ms/step - loss: 1.1602 - accuracy: 0.5300\n",
            "Epoch 18/70\n",
            "27/27 [==============================] - 0s 2ms/step - loss: 1.2812 - accuracy: 0.4621\n",
            "Epoch 19/70\n",
            "27/27 [==============================] - 0s 3ms/step - loss: 1.1408 - accuracy: 0.5792\n",
            "Epoch 20/70\n",
            "27/27 [==============================] - 0s 2ms/step - loss: 1.1790 - accuracy: 0.5359\n",
            "Epoch 21/70\n",
            "27/27 [==============================] - 0s 2ms/step - loss: 1.0234 - accuracy: 0.6343\n",
            "Epoch 22/70\n",
            "27/27 [==============================] - 0s 2ms/step - loss: 1.1297 - accuracy: 0.5661\n",
            "Epoch 23/70\n",
            "27/27 [==============================] - 0s 2ms/step - loss: 1.0652 - accuracy: 0.5921\n",
            "Epoch 24/70\n",
            "27/27 [==============================] - 0s 2ms/step - loss: 1.1851 - accuracy: 0.5584\n",
            "Epoch 25/70\n",
            "27/27 [==============================] - 0s 2ms/step - loss: 1.0427 - accuracy: 0.6347\n",
            "Epoch 26/70\n",
            "27/27 [==============================] - 0s 2ms/step - loss: 1.1861 - accuracy: 0.5571\n",
            "Epoch 27/70\n",
            "27/27 [==============================] - 0s 2ms/step - loss: 1.0533 - accuracy: 0.6129\n",
            "Epoch 28/70\n",
            "27/27 [==============================] - 0s 2ms/step - loss: 1.0649 - accuracy: 0.6150\n",
            "Epoch 29/70\n",
            "27/27 [==============================] - 0s 2ms/step - loss: 0.9739 - accuracy: 0.6567\n",
            "Epoch 30/70\n",
            "27/27 [==============================] - 0s 2ms/step - loss: 1.1076 - accuracy: 0.6007\n",
            "Epoch 31/70\n",
            "27/27 [==============================] - 0s 2ms/step - loss: 0.9703 - accuracy: 0.6371\n",
            "Epoch 32/70\n",
            "27/27 [==============================] - 0s 2ms/step - loss: 0.9144 - accuracy: 0.6505\n",
            "Epoch 33/70\n",
            "27/27 [==============================] - 0s 2ms/step - loss: 0.8640 - accuracy: 0.6746\n",
            "Epoch 34/70\n",
            "27/27 [==============================] - 0s 2ms/step - loss: 0.7990 - accuracy: 0.6909\n",
            "Epoch 35/70\n",
            "27/27 [==============================] - 0s 2ms/step - loss: 0.8248 - accuracy: 0.6881\n",
            "Epoch 36/70\n",
            "27/27 [==============================] - 0s 2ms/step - loss: 0.8900 - accuracy: 0.6567\n",
            "Epoch 37/70\n",
            "27/27 [==============================] - 0s 2ms/step - loss: 0.9398 - accuracy: 0.6547\n",
            "Epoch 38/70\n",
            "27/27 [==============================] - 0s 2ms/step - loss: 0.9643 - accuracy: 0.6344\n",
            "Epoch 39/70\n",
            "27/27 [==============================] - 0s 2ms/step - loss: 0.8333 - accuracy: 0.6919\n",
            "Epoch 40/70\n",
            "27/27 [==============================] - 0s 2ms/step - loss: 0.7577 - accuracy: 0.7307\n",
            "Epoch 41/70\n",
            "27/27 [==============================] - 0s 2ms/step - loss: 0.7520 - accuracy: 0.7363\n",
            "Epoch 42/70\n",
            "27/27 [==============================] - 0s 2ms/step - loss: 0.8606 - accuracy: 0.6678\n",
            "Epoch 43/70\n",
            "27/27 [==============================] - 0s 2ms/step - loss: 0.8070 - accuracy: 0.6878\n",
            "Epoch 44/70\n",
            "27/27 [==============================] - 0s 2ms/step - loss: 0.6957 - accuracy: 0.7504\n",
            "Epoch 45/70\n",
            "27/27 [==============================] - 0s 2ms/step - loss: 0.6941 - accuracy: 0.7561\n",
            "Epoch 46/70\n",
            "27/27 [==============================] - 0s 2ms/step - loss: 0.7817 - accuracy: 0.7285\n",
            "Epoch 47/70\n",
            "27/27 [==============================] - 0s 2ms/step - loss: 0.8117 - accuracy: 0.7460\n",
            "Epoch 48/70\n",
            "27/27 [==============================] - 0s 2ms/step - loss: 0.7259 - accuracy: 0.7284\n",
            "Epoch 49/70\n",
            "27/27 [==============================] - 0s 2ms/step - loss: 0.6831 - accuracy: 0.7617\n",
            "Epoch 50/70\n",
            "27/27 [==============================] - 0s 2ms/step - loss: 0.7298 - accuracy: 0.7506\n",
            "Epoch 51/70\n",
            "27/27 [==============================] - 0s 2ms/step - loss: 0.5944 - accuracy: 0.7942\n",
            "Epoch 52/70\n",
            "27/27 [==============================] - 0s 2ms/step - loss: 0.6190 - accuracy: 0.7897\n",
            "Epoch 53/70\n",
            "27/27 [==============================] - 0s 2ms/step - loss: 0.6027 - accuracy: 0.7910\n",
            "Epoch 54/70\n",
            "27/27 [==============================] - 0s 2ms/step - loss: 0.6973 - accuracy: 0.7339\n",
            "Epoch 55/70\n",
            "27/27 [==============================] - 0s 2ms/step - loss: 0.5956 - accuracy: 0.8187\n",
            "Epoch 56/70\n",
            "27/27 [==============================] - 0s 2ms/step - loss: 0.6184 - accuracy: 0.7578\n",
            "Epoch 57/70\n",
            "27/27 [==============================] - 0s 2ms/step - loss: 0.7664 - accuracy: 0.7274\n",
            "Epoch 58/70\n",
            "27/27 [==============================] - 0s 2ms/step - loss: 0.6578 - accuracy: 0.7343\n",
            "Epoch 59/70\n",
            "27/27 [==============================] - 0s 2ms/step - loss: 0.5790 - accuracy: 0.7949\n",
            "Epoch 60/70\n",
            "27/27 [==============================] - 0s 2ms/step - loss: 0.5264 - accuracy: 0.8121\n",
            "Epoch 61/70\n",
            "27/27 [==============================] - 0s 2ms/step - loss: 0.5595 - accuracy: 0.8065\n",
            "Epoch 62/70\n",
            "27/27 [==============================] - 0s 2ms/step - loss: 0.5177 - accuracy: 0.8246\n",
            "Epoch 63/70\n",
            "27/27 [==============================] - 0s 2ms/step - loss: 0.6124 - accuracy: 0.7679\n",
            "Epoch 64/70\n",
            "27/27 [==============================] - 0s 2ms/step - loss: 0.5479 - accuracy: 0.8057\n",
            "Epoch 65/70\n",
            "27/27 [==============================] - 0s 2ms/step - loss: 0.5266 - accuracy: 0.8098\n",
            "Epoch 66/70\n",
            "27/27 [==============================] - 0s 2ms/step - loss: 0.6068 - accuracy: 0.7782\n",
            "Epoch 67/70\n",
            "27/27 [==============================] - 0s 2ms/step - loss: 0.5574 - accuracy: 0.8172\n",
            "Epoch 68/70\n",
            "27/27 [==============================] - 0s 2ms/step - loss: 0.5187 - accuracy: 0.8137\n",
            "Epoch 69/70\n",
            "27/27 [==============================] - 0s 2ms/step - loss: 0.4553 - accuracy: 0.8479\n",
            "Epoch 70/70\n",
            "27/27 [==============================] - 0s 2ms/step - loss: 0.4844 - accuracy: 0.8522\n"
          ],
          "name": "stdout"
        },
        {
          "output_type": "execute_result",
          "data": {
            "text/plain": [
              "<tensorflow.python.keras.callbacks.History at 0x7f8ab21b04e0>"
            ]
          },
          "metadata": {
            "tags": []
          },
          "execution_count": 50
        }
      ]
    },
    {
      "cell_type": "code",
      "metadata": {
        "id": "PkA2gAtmO88d",
        "colab": {
          "base_uri": "https://localhost:8080/"
        },
        "outputId": "dfb6a889-8189-47e9-8de2-a209452807cc"
      },
      "source": [
        "# Evaluemos nuestro modelo respecto a los datos de test\r\n",
        "model.evaluate(test_images, test_labels)"
      ],
      "execution_count": null,
      "outputs": [
        {
          "output_type": "stream",
          "text": [
            "4/4 [==============================] - 0s 3ms/step - loss: 0.7687 - accuracy: 0.7083\n"
          ],
          "name": "stdout"
        },
        {
          "output_type": "execute_result",
          "data": {
            "text/plain": [
              "[0.7687193751335144, 0.7083333134651184]"
            ]
          },
          "metadata": {
            "tags": []
          },
          "execution_count": 51
        }
      ]
    },
    {
      "cell_type": "markdown",
      "metadata": {
        "id": "twfV36ChP4Ce"
      },
      "source": [
        "# 8. Modelo de clasificación (con una aproximación convolucional)\r\n",
        "\r\n"
      ]
    },
    {
      "cell_type": "code",
      "metadata": {
        "id": "vcuC8NuAQPew",
        "colab": {
          "base_uri": "https://localhost:8080/"
        },
        "outputId": "344b2151-ff42-4879-b635-21a19dc9b678"
      },
      "source": [
        "# Entrenemos ahora un modelo con una aproximación convolucional y veamos su performance\n",
        "model = keras.Sequential([\n",
        "   keras.layers.Conv2D(64, 3, activation='relu', input_shape=(64,64,1)),\n",
        "   keras.layers.Conv2D(32, 3, activation='relu'),\n",
        "   keras.layers.Flatten(),\n",
        "   keras.layers.Dense(6, activation='softmax')\n",
        "])\n",
        "\n",
        "model.compile(optimizer='adam',\n",
        "              loss=keras.losses.SparseCategoricalCrossentropy(),\n",
        "              metrics=['accuracy'])\n",
        "\n",
        "model.fit(train_images, train_labels, epochs=8, batch_size=32)"
      ],
      "execution_count": null,
      "outputs": [
        {
          "output_type": "stream",
          "text": [
            "Epoch 1/8\n",
            "27/27 [==============================] - 1s 10ms/step - loss: 2.6080 - accuracy: 0.1791\n",
            "Epoch 2/8\n",
            "27/27 [==============================] - 0s 8ms/step - loss: 1.7666 - accuracy: 0.3404\n",
            "Epoch 3/8\n",
            "27/27 [==============================] - 0s 8ms/step - loss: 1.6510 - accuracy: 0.4601\n",
            "Epoch 4/8\n",
            "27/27 [==============================] - 0s 8ms/step - loss: 1.3391 - accuracy: 0.5554\n",
            "Epoch 5/8\n",
            "27/27 [==============================] - 0s 8ms/step - loss: 1.0042 - accuracy: 0.6779\n",
            "Epoch 6/8\n",
            "27/27 [==============================] - 0s 9ms/step - loss: 0.8193 - accuracy: 0.7287\n",
            "Epoch 7/8\n",
            "27/27 [==============================] - 0s 9ms/step - loss: 0.5972 - accuracy: 0.8120\n",
            "Epoch 8/8\n",
            "27/27 [==============================] - 0s 8ms/step - loss: 0.4834 - accuracy: 0.8515\n"
          ],
          "name": "stdout"
        },
        {
          "output_type": "execute_result",
          "data": {
            "text/plain": [
              "<tensorflow.python.keras.callbacks.History at 0x7f8ac0e4b518>"
            ]
          },
          "metadata": {
            "tags": []
          },
          "execution_count": 56
        }
      ]
    },
    {
      "cell_type": "code",
      "metadata": {
        "id": "M2cAP7RCfsvP",
        "colab": {
          "base_uri": "https://localhost:8080/"
        },
        "outputId": "ac1b30e5-4a67-4f7c-b89d-293e80c946a9"
      },
      "source": [
        "# Evaluemos nuestro modelo respecto a los datos de test\r\n",
        "model.evaluate(test_images, test_labels)"
      ],
      "execution_count": null,
      "outputs": [
        {
          "output_type": "stream",
          "text": [
            "4/4 [==============================] - 0s 5ms/step - loss: 0.7259 - accuracy: 0.7583\n"
          ],
          "name": "stdout"
        },
        {
          "output_type": "execute_result",
          "data": {
            "text/plain": [
              "[0.7258535027503967, 0.7583333253860474]"
            ]
          },
          "metadata": {
            "tags": []
          },
          "execution_count": 55
        }
      ]
    },
    {
      "cell_type": "markdown",
      "metadata": {
        "id": "3J6Q2DJ6hX7c"
      },
      "source": [
        "# 9. Modelo de clasificación (con una aproximación convolucional y elementos complementarios)"
      ]
    },
    {
      "cell_type": "code",
      "metadata": {
        "id": "yDAtTVtahbIj",
        "colab": {
          "base_uri": "https://localhost:8080/"
        },
        "outputId": "53d7bdbd-831f-4a3b-c92a-b68bddf3e08d"
      },
      "source": [
        "# Entrenemos ahora un modelo con una aproximación convolucional con capas adicionales\n",
        "# (AveragePooling2D, MaxPool2D, Dropout)\n",
        "model = keras.Sequential([\n",
        "   keras.layers.AveragePooling2D(6,3, input_shape=(64,64,1)),\n",
        "   keras.layers.Conv2D(64, 3, activation='relu'),\n",
        "   keras.layers.Conv2D(32, 3, activation='relu'),\n",
        "   keras.layers.MaxPool2D(2,2),\n",
        "   keras.layers.Dropout(0.5),\n",
        "   keras.layers.Flatten(),\n",
        "   keras.layers.Dense(128, activation='relu'),\n",
        "   keras.layers.Dense(6, activation='softmax')\n",
        "])\n",
        "\n",
        "model.compile(optimizer='adam',\n",
        "              loss=keras.losses.SparseCategoricalCrossentropy(),\n",
        "              metrics=['accuracy'])\n",
        "\n",
        "model.fit(train_images, train_labels, epochs=50, batch_size=32)"
      ],
      "execution_count": null,
      "outputs": [
        {
          "output_type": "stream",
          "text": [
            "Epoch 1/50\n",
            "27/27 [==============================] - 0s 3ms/step - loss: 1.8008 - accuracy: 0.1706\n",
            "Epoch 2/50\n",
            "27/27 [==============================] - 0s 3ms/step - loss: 1.7848 - accuracy: 0.1981\n",
            "Epoch 3/50\n",
            "27/27 [==============================] - 0s 3ms/step - loss: 1.7545 - accuracy: 0.2801\n",
            "Epoch 4/50\n",
            "27/27 [==============================] - 0s 3ms/step - loss: 1.6568 - accuracy: 0.3349\n",
            "Epoch 5/50\n",
            "27/27 [==============================] - 0s 3ms/step - loss: 1.5195 - accuracy: 0.4322\n",
            "Epoch 6/50\n",
            "27/27 [==============================] - 0s 3ms/step - loss: 1.3750 - accuracy: 0.5018\n",
            "Epoch 7/50\n",
            "27/27 [==============================] - 0s 3ms/step - loss: 1.2705 - accuracy: 0.5104\n",
            "Epoch 8/50\n",
            "27/27 [==============================] - 0s 3ms/step - loss: 1.1914 - accuracy: 0.5609\n",
            "Epoch 9/50\n",
            "27/27 [==============================] - 0s 2ms/step - loss: 1.1347 - accuracy: 0.5764\n",
            "Epoch 10/50\n",
            "27/27 [==============================] - 0s 3ms/step - loss: 1.1171 - accuracy: 0.5830\n",
            "Epoch 11/50\n",
            "27/27 [==============================] - 0s 3ms/step - loss: 1.0994 - accuracy: 0.5894\n",
            "Epoch 12/50\n",
            "27/27 [==============================] - 0s 2ms/step - loss: 1.0158 - accuracy: 0.6347\n",
            "Epoch 13/50\n",
            "27/27 [==============================] - 0s 3ms/step - loss: 0.9670 - accuracy: 0.6488\n",
            "Epoch 14/50\n",
            "27/27 [==============================] - 0s 3ms/step - loss: 0.9113 - accuracy: 0.6896\n",
            "Epoch 15/50\n",
            "27/27 [==============================] - 0s 2ms/step - loss: 0.9515 - accuracy: 0.6466\n",
            "Epoch 16/50\n",
            "27/27 [==============================] - 0s 3ms/step - loss: 0.8610 - accuracy: 0.6768\n",
            "Epoch 17/50\n",
            "27/27 [==============================] - 0s 2ms/step - loss: 0.8347 - accuracy: 0.6965\n",
            "Epoch 18/50\n",
            "27/27 [==============================] - 0s 3ms/step - loss: 0.8076 - accuracy: 0.7143\n",
            "Epoch 19/50\n",
            "27/27 [==============================] - 0s 3ms/step - loss: 0.7315 - accuracy: 0.7422\n",
            "Epoch 20/50\n",
            "27/27 [==============================] - 0s 2ms/step - loss: 0.7373 - accuracy: 0.7422\n",
            "Epoch 21/50\n",
            "27/27 [==============================] - 0s 2ms/step - loss: 0.7133 - accuracy: 0.7457\n",
            "Epoch 22/50\n",
            "27/27 [==============================] - 0s 3ms/step - loss: 0.6514 - accuracy: 0.7645\n",
            "Epoch 23/50\n",
            "27/27 [==============================] - 0s 2ms/step - loss: 0.6409 - accuracy: 0.7848\n",
            "Epoch 24/50\n",
            "27/27 [==============================] - 0s 2ms/step - loss: 0.6370 - accuracy: 0.7494\n",
            "Epoch 25/50\n",
            "27/27 [==============================] - 0s 2ms/step - loss: 0.6138 - accuracy: 0.7789\n",
            "Epoch 26/50\n",
            "27/27 [==============================] - 0s 3ms/step - loss: 0.6552 - accuracy: 0.7694\n",
            "Epoch 27/50\n",
            "27/27 [==============================] - 0s 3ms/step - loss: 0.5510 - accuracy: 0.7981\n",
            "Epoch 28/50\n",
            "27/27 [==============================] - 0s 3ms/step - loss: 0.5291 - accuracy: 0.8188\n",
            "Epoch 29/50\n",
            "27/27 [==============================] - 0s 2ms/step - loss: 0.5044 - accuracy: 0.8232\n",
            "Epoch 30/50\n",
            "27/27 [==============================] - 0s 2ms/step - loss: 0.4872 - accuracy: 0.8275\n",
            "Epoch 31/50\n",
            "27/27 [==============================] - 0s 2ms/step - loss: 0.5150 - accuracy: 0.8278\n",
            "Epoch 32/50\n",
            "27/27 [==============================] - 0s 3ms/step - loss: 0.4667 - accuracy: 0.8332\n",
            "Epoch 33/50\n",
            "27/27 [==============================] - 0s 2ms/step - loss: 0.4392 - accuracy: 0.8505\n",
            "Epoch 34/50\n",
            "27/27 [==============================] - 0s 2ms/step - loss: 0.4636 - accuracy: 0.8450\n",
            "Epoch 35/50\n",
            "27/27 [==============================] - 0s 3ms/step - loss: 0.4232 - accuracy: 0.8526\n",
            "Epoch 36/50\n",
            "27/27 [==============================] - 0s 2ms/step - loss: 0.4891 - accuracy: 0.8120\n",
            "Epoch 37/50\n",
            "27/27 [==============================] - 0s 2ms/step - loss: 0.3797 - accuracy: 0.8622\n",
            "Epoch 38/50\n",
            "27/27 [==============================] - 0s 3ms/step - loss: 0.4266 - accuracy: 0.8482\n",
            "Epoch 39/50\n",
            "27/27 [==============================] - 0s 2ms/step - loss: 0.3743 - accuracy: 0.8708\n",
            "Epoch 40/50\n",
            "27/27 [==============================] - 0s 2ms/step - loss: 0.3466 - accuracy: 0.8925\n",
            "Epoch 41/50\n",
            "27/27 [==============================] - 0s 3ms/step - loss: 0.3579 - accuracy: 0.8985\n",
            "Epoch 42/50\n",
            "27/27 [==============================] - 0s 3ms/step - loss: 0.3863 - accuracy: 0.8621\n",
            "Epoch 43/50\n",
            "27/27 [==============================] - 0s 2ms/step - loss: 0.3680 - accuracy: 0.8927\n",
            "Epoch 44/50\n",
            "27/27 [==============================] - 0s 3ms/step - loss: 0.3424 - accuracy: 0.8890\n",
            "Epoch 45/50\n",
            "27/27 [==============================] - 0s 3ms/step - loss: 0.3680 - accuracy: 0.8829\n",
            "Epoch 46/50\n",
            "27/27 [==============================] - 0s 3ms/step - loss: 0.3046 - accuracy: 0.9144\n",
            "Epoch 47/50\n",
            "27/27 [==============================] - 0s 3ms/step - loss: 0.2676 - accuracy: 0.9087\n",
            "Epoch 48/50\n",
            "27/27 [==============================] - 0s 3ms/step - loss: 0.3216 - accuracy: 0.8900\n",
            "Epoch 49/50\n",
            "27/27 [==============================] - 0s 3ms/step - loss: 0.3425 - accuracy: 0.8788\n",
            "Epoch 50/50\n",
            "27/27 [==============================] - 0s 2ms/step - loss: 0.2715 - accuracy: 0.9035\n"
          ],
          "name": "stdout"
        },
        {
          "output_type": "execute_result",
          "data": {
            "text/plain": [
              "<tensorflow.python.keras.callbacks.History at 0x7f8ab27502e8>"
            ]
          },
          "metadata": {
            "tags": []
          },
          "execution_count": 65
        }
      ]
    },
    {
      "cell_type": "code",
      "metadata": {
        "id": "yjTdABs_ibEO",
        "colab": {
          "base_uri": "https://localhost:8080/"
        },
        "outputId": "67aace50-54c0-4f58-ab7b-afc09ee6fbdd"
      },
      "source": [
        "# Evaluemos nuestro modelo respecto a los datos de test\r\n",
        "# (Observamos que el accuracy tanto para train como para test es del orden del 90%)\r\n",
        "model.evaluate(test_images,test_labels)"
      ],
      "execution_count": null,
      "outputs": [
        {
          "output_type": "stream",
          "text": [
            "4/4 [==============================] - 0s 3ms/step - loss: 0.3201 - accuracy: 0.9083\n"
          ],
          "name": "stdout"
        },
        {
          "output_type": "execute_result",
          "data": {
            "text/plain": [
              "[0.32008835673332214, 0.9083333611488342]"
            ]
          },
          "metadata": {
            "tags": []
          },
          "execution_count": 66
        }
      ]
    },
    {
      "cell_type": "markdown",
      "metadata": {
        "id": "OqhEhJW9aibG"
      },
      "source": [
        "# 10. Guardando y cargando el modelo"
      ]
    },
    {
      "cell_type": "code",
      "metadata": {
        "id": "Whe_f_RCabTJ"
      },
      "source": [
        "# Una vez hemos determinado nuestro mejor modelo lo guardamos para generar prediciones de manera posterior\r\n",
        "tf.keras.models.save_model(model,'/content/drive/MyDrive/Colab Notebooks/Adivino_tu_mano_(Modelo).hdf5')"
      ],
      "execution_count": null,
      "outputs": []
    },
    {
      "cell_type": "code",
      "metadata": {
        "id": "W2WKJf2uabjO"
      },
      "source": [
        "# Si queremos hacer uso de nuestro modelo únicamante debemos cargarlo\r\n",
        "loaded_model = keras.models.load_model('/content/drive/MyDrive/Colab Notebooks/Adivino_tu_mano_(Modelo).hdf5')"
      ],
      "execution_count": null,
      "outputs": []
    },
    {
      "cell_type": "code",
      "metadata": {
        "colab": {
          "base_uri": "https://localhost:8080/"
        },
        "id": "FANAFPo6abnA",
        "outputId": "50262a16-371a-4cf0-9b13-d4a684a69944"
      },
      "source": [
        "# Corroboramos que el modelo cargado esta haciendo las prediciones de manera adecuada\r\n",
        "loaded_model.evaluate(test_images, test_labels)"
      ],
      "execution_count": null,
      "outputs": [
        {
          "output_type": "stream",
          "text": [
            "4/4 [==============================] - 0s 3ms/step - loss: 0.3201 - accuracy: 0.9083\n"
          ],
          "name": "stdout"
        },
        {
          "output_type": "execute_result",
          "data": {
            "text/plain": [
              "[0.32008835673332214, 0.9083333611488342]"
            ]
          },
          "metadata": {
            "tags": []
          },
          "execution_count": 79
        }
      ]
    },
    {
      "cell_type": "markdown",
      "metadata": {
        "id": "yfDmcc4VDdOc"
      },
      "source": [
        "# 11. Prediciendo para un único ejemplo (función base para aplicativo de Sreamlit)"
      ]
    },
    {
      "cell_type": "code",
      "metadata": {
        "colab": {
          "base_uri": "https://localhost:8080/",
          "height": 303
        },
        "id": "Jq24JPewJzDl",
        "outputId": "f5c1bbdd-6c41-435e-ba1c-7023bc8c5e87"
      },
      "source": [
        "# Emplearemos nuestro modelo ahora para hacer la predicción sobre una imagen cualquiera\r\n",
        "# (Observar que la imagen no hace parte de ninguno de los dataset de train y tampoco tiene la misma resolución)\r\n",
        "image = Image.open('/content/drive/MyDrive/Colab Notebooks/Imagen_otro_size.jpg')\r\n",
        "print(np.asarray(image).shape)\r\n",
        "plt.imshow(image)"
      ],
      "execution_count": null,
      "outputs": [
        {
          "output_type": "stream",
          "text": [
            "(339, 509, 3)\n"
          ],
          "name": "stdout"
        },
        {
          "output_type": "execute_result",
          "data": {
            "text/plain": [
              "<matplotlib.image.AxesImage at 0x7f8aac48d4e0>"
            ]
          },
          "metadata": {
            "tags": []
          },
          "execution_count": 80
        },
        {
          "output_type": "display_data",
          "data": {
            "image/png": "[encoded data removed]",
            "text/plain": [
              "<Figure size 432x288 with 1 Axes>"
            ]
          },
          "metadata": {
            "tags": [],
            "needs_background": "light"
          }
        }
      ]
    },
    {
      "cell_type": "code",
      "metadata": {
        "id": "DVCMq4KeJzof"
      },
      "source": [
        "# Dado que la imagen que se importa puede tener cualquier resolución, debemos adecuarla\r\n",
        "# para que nuestro modelo creado pueda generar su predicción. Redimensionamos la imagen\r\n",
        "# llevandola a la resolucion 64x64 que fue la que empleamos para el desarrollo de nuestro modelo. \r\n",
        "# Adicionalmente generamos todas las transformaciones necesarias a la imagen necesarias por el modelo.\r\n",
        "# La función generará la transformación y la predicción de nuestra nueva imagen. \r\n",
        "# (Esta función la emplearemos como parte del archivo de stremlit para el despliegue de la aplicación)\r\n",
        "def transform_and_predict(image, model):\r\n",
        "        size = (64,64)\r\n",
        "        image = ImageOps.fit(image, size, Image.ANTIALIAS)\r\n",
        "        image_paso_00 = np.asarray(image)\r\n",
        "        image_paso_01 = image_paso_00[:,:,0]\r\n",
        "        image_paso_02 = np.array([image_paso_01])\r\n",
        "        image_paso_03= image_paso_02.reshape(image_paso_02.shape[0], image_paso_02.shape[1], image_paso_02.shape[2], 1)\r\n",
        "        image_paso_04 = image_paso_03.astype('float32')/255\r\n",
        "        prediction = model.predict(image_paso_04)\r\n",
        "        return prediction"
      ],
      "execution_count": null,
      "outputs": []
    },
    {
      "cell_type": "code",
      "metadata": {
        "id": "XciXnyCgKmqC",
        "colab": {
          "base_uri": "https://localhost:8080/"
        },
        "outputId": "2cbb5d20-8569-4ad7-fa0a-b4da9d351cb1"
      },
      "source": [
        "# Generemos ahora la predicción empleando la función descrita\r\n",
        "prediction = transform_and_predict(image, loaded_model)\r\n",
        "print(prediction)\r\n",
        "print(np.argmax(prediction))"
      ],
      "execution_count": null,
      "outputs": [
        {
          "output_type": "stream",
          "text": [
            "[[0.01877309 0.02065687 0.00913782 0.8932848  0.00251104 0.05563634]]\n",
            "3\n"
          ],
          "name": "stdout"
        }
      ]
    }
  ]
}